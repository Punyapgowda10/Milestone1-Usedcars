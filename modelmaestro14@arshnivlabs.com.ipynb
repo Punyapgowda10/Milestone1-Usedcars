{
 "cells": [
  {
   "cell_type": "markdown",
   "metadata": {
    "id": "gKIv3FPkJ85A"
   },
   "source": [
    "### Milestone :1 Predicting the Demand for Used Vehicles"
   ]
  },
  {
   "cell_type": "markdown",
   "metadata": {
    "id": "pgJM-JwOJ85C"
   },
   "source": [
    "There is an automobile company XYZ from USA which aspires to enter the US used car market by setting up their company locally to give competition to their counterparts. They want to understand the factors affecting the pricing of cars in the market, since those may be vastly different from the new car market.\n",
    "       \n",
    "The market for used cars has witnessed a significant surge in demand in recent times, surpassing that of new cars. Consequently, pricing strategies for used vehicles have become crucial for businesses to remain competitive in the market. The value of a used car is influenced by a multitude of factors, such as mileage, model, and year of production. It is imperative for industry players to consider these variables while determining the actual worth of a used car.\n",
    "      \n",
    "First step document that lists the output of your exploratory analysis, any issues, or problems you may see with data that need follow-up, and some basic descriptive analysis that you think highlights important outcomes/findings from the data. Based on your findings, the next level of analysis will be charted out. Build a multiple linear regression model for predicting the price of a used car and provide meaningful inferences.\n"
   ]
  },
  {
   "cell_type": "markdown",
   "metadata": {
    "id": "5iOqQsOVJ85C"
   },
   "source": [
    "**Dataset: Used_cars_sales.xlsx**"
   ]
  },
  {
   "cell_type": "markdown",
   "metadata": {
    "id": "FSs1dxZJJ85C"
   },
   "source": [
    "**Data Dictionary**\n",
    "\n",
    "    Name \t                 Name of the Car on Sell\n",
    "    City \t                 City of the Car on Sell\n",
    "    Years             \t     Year of manufacture\n",
    "    Km_driven  \t             Kms Car travelled\n",
    "    Fuel_Type  \t             Petrol, Diesel, CNG\n",
    "    Transmission  \t         Manual, Automatic\n",
    "    Owner_Type     \t         First, Second, Third\n",
    "    Mileage  \t             Mileage of the Car\n",
    "    Engine \t                 Engine Displacement\n",
    "    Power             \t     Power of Engine\n",
    "    Seats              \t     No. of Seats in Car\n",
    "    Selling_price   \t     Selling price of a Car (Target)"
   ]
  },
  {
   "cell_type": "markdown",
   "metadata": {
    "id": "i351KBNnJ85C"
   },
   "source": [
    "**Initial Guidelines:**\n",
    "\n",
    "Ensure to follow to Use Id’s provided by UNext for naming file as conventions.\n"
   ]
  },
  {
   "cell_type": "markdown",
   "metadata": {
    "id": "5RLFaBhGJ85D"
   },
   "source": [
    "### General Instructions\n",
    "\n",
    "- The assessment has 16 questions, each question is a separate function\n",
    "- The cells in the Jupyter notebook can be executed any number of times for testing the solution\n",
    "- Refrain from modifying the boilerplate code as it may lead to unexpected behavior\n",
    "- The solution is to be written between the comments `# code starts here` and `# code ends here`\n",
    "- On completing all the questions, the assessment is to be submitted on moodle for evaluation\n",
    "- The kernel of the Jupyter notebook is to be set as `Python 3 (ipykernel)` if not set already\n",
    "- Include imports as necessary\n",
    "- For each of the task, `Note` section will provide you hints to solve the problem."
   ]
  },
  {
   "cell_type": "markdown",
   "metadata": {
    "id": "84i5qdAGJ85D"
   },
   "source": [
    "#### **Utilize software engineering aspects while building Machine learning model using modular programming principles to organize your code into reusable functions or classes to enhance readability, maintainability, and collaboration.**"
   ]
  },
  {
   "cell_type": "markdown",
   "metadata": {
    "id": "ycFKY8h6J85D"
   },
   "source": [
    "#### NOTE:\n",
    "Import various libraries and modules used in data analysis, machine learning, and visualization tasks in Python such as `pandas`, `numpy`, `sklearn`, `matplotlib`, `seaborn`, `statsmodels`, `statsmodels.api`, `sklearn.model_selection`, `sklearn.linear_model`, `sklearn.metrics`, `sklearn.preprocessing`. There are 2 ways to import the libraries and modules:\n",
    "* import numpy as np\n",
    "* from sklearn.model_selection import train_test_split"
   ]
  },
  {
   "cell_type": "code",
   "execution_count": 1,
   "metadata": {
    "id": "WsfoK6fiJ85D",
    "outputId": "20042f34-4458-4183-82b4-26392ccf1221"
   },
   "outputs": [
    {
     "name": "stderr",
     "output_type": "stream",
     "text": [
      "/usr/local/lib/python3.10/dist-packages/matplotlib/projections/__init__.py:63: UserWarning: Unable to import Axes3D. This may be due to multiple versions of Matplotlib being installed (e.g. as a system package and as a pip package). As a result, the 3D projection is not available.\n",
      "  warnings.warn(\"Unable to import Axes3D. This may be due to multiple versions of \"\n"
     ]
    }
   ],
   "source": [
    "# Required imports\n",
    "from sklearn.datasets import fetch_openml\n",
    "import numpy as np\n",
    "import pandas as pd\n",
    "import sklearn\n",
    "import matplotlib.pyplot as plt\n",
    "import seaborn as sns\n",
    "import statsmodels as sm\n",
    "import statsmodels.api as sm\n",
    "from sklearn.model_selection import train_test_split\n",
    "from sklearn.linear_model import LinearRegression\n",
    "from sklearn.metrics import mean_squared_error, r2_score\n",
    "from sklearn.preprocessing import StandardScaler\n"
   ]
  },
  {
   "cell_type": "markdown",
   "metadata": {
    "id": "Kq5YbbxRJ85D"
   },
   "source": [
    "### Task 1: Load the 'car_sales-dataset' available in the Dataset folder within the Project folder on the desktop. Perform preliminary EDA with key observations and insights- (weightage - 40 marks)"
   ]
  },
  {
   "cell_type": "markdown",
   "metadata": {
    "id": "neBCdERMJ85D"
   },
   "source": [
    "#### T1.1: Load the Used_cars_sales dataset using try and except blocks.          (weightage - 2 marks) (AE)        \n",
    "\n",
    "#### NOTE:\n",
    "The `read_excel` method in Pandas allows you to read Excel files and convert them into a DataFrame, which is a two-dimensional tabular data structure in Pandas."
   ]
  },
  {
   "cell_type": "code",
   "execution_count": 2,
   "metadata": {
    "colab": {
     "base_uri": "https://localhost:8080/"
    },
    "id": "R7VsAXKIJ85E",
    "outputId": "3eb6f058-7261-4c2c-d087-b6e9f6f68908"
   },
   "outputs": [
    {
     "name": "stdout",
     "output_type": "stream",
     "text": [
      "Loaded successfully\n",
      "      Sales_ID                          name  year  selling_price  km_driven  \\\n",
      "0            1        Maruti Swift Dzire VDI  2014         450000     145500   \n",
      "1            2  Skoda Rapid 1.5 TDI Ambition  2014         370000     120000   \n",
      "2            3      Honda City 2017-2020 EXi  2006         158000     140000   \n",
      "3            4     Hyundai i20 Sportz Diesel  2010         225000     127000   \n",
      "4            5        Maruti Swift VXI BSIII  2007         130000     120000   \n",
      "...        ...                           ...   ...            ...        ...   \n",
      "7901      8124             Hyundai i20 Magna  2013         320000     110000   \n",
      "7902      8125         Hyundai Verna CRDi SX  2007         135000     119000   \n",
      "7903      8126        Maruti Swift Dzire ZDi  2009         382000     120000   \n",
      "7904      8127               Tata Indigo CR4  2013         290000      25000   \n",
      "7905      8128               Tata Indigo CR4  2013         290000      25000   \n",
      "\n",
      "        fuel seller_type transmission         owner     mileage   engine  \\\n",
      "0     Diesel  Individual       Manual   First Owner   23.4 kmpl  1248 CC   \n",
      "1     Diesel  Individual       Manual  Second Owner  21.14 kmpl  1498 CC   \n",
      "2     Petrol  Individual       Manual   Third Owner   17.7 kmpl  1497 CC   \n",
      "3     Diesel  Individual       Manual   First Owner   23.0 kmpl  1396 CC   \n",
      "4     Petrol  Individual       Manual   First Owner   16.1 kmpl  1298 CC   \n",
      "...      ...         ...          ...           ...         ...      ...   \n",
      "7901  Petrol  Individual       Manual   First Owner   18.5 kmpl  1197 CC   \n",
      "7902  Diesel  Individual       Manual   Third Owner   16.8 kmpl  1493 CC   \n",
      "7903  Diesel  Individual       Manual   First Owner   19.3 kmpl  1248 CC   \n",
      "7904  Diesel  Individual       Manual   First Owner  23.57 kmpl  1396 CC   \n",
      "7905  Diesel  Individual       Manual   First Owner  23.57 kmpl  1396 CC   \n",
      "\n",
      "       max_power  seats      City  Postal_code Sales_status  \n",
      "0         74 bhp      5    Mumbai       400001            Y  \n",
      "1     103.52 bhp      5    Ranchi       834008            Y  \n",
      "2         78 bhp      5     Noida       201301            Y  \n",
      "3         90 bhp      5  Dehradun       248141            Y  \n",
      "4       88.2 bhp      5   Chennai       600020            Y  \n",
      "...          ...    ...       ...          ...          ...  \n",
      "7901   82.85 bhp      5    Indore       453551            N  \n",
      "7902     110 bhp      5  Dehradun       248141            N  \n",
      "7903    73.9 bhp      5   Kolkata       700027            N  \n",
      "7904      70 bhp      5   Vellore       632001            N  \n",
      "7905      70 bhp      5  Dehradun       248141            N  \n",
      "\n",
      "[7906 rows x 16 columns]\n"
     ]
    }
   ],
   "source": [
    "import pandas as pd\n",
    "\n",
    "def load_the_dataset(dataset_location: str) -> pd.DataFrame:\n",
    "    car_sales = None\n",
    "    try:\n",
    "        car_sales = pd.read_excel(dataset_location)\n",
    "        print(\"Loaded successfully\")\n",
    "    except FileNotFoundError:\n",
    "        print(\"Error: File not found.\")\n",
    "    except Exception as e:\n",
    "        print(f\"Error: {e}\")\n",
    "    return car_sales\n",
    "\n",
    "# Store the result of the dataset\n",
    "dataset_location = 'Used_car_sales.xlsx'\n",
    "car_sales = load_the_dataset(dataset_location)\n",
    "print(car_sales)\n"
   ]
  },
  {
   "cell_type": "markdown",
   "metadata": {
    "id": "beWDbtFfJ85E"
   },
   "source": [
    "#### T1.2: Which brand is selling the most in terms of the number of units sold    (weightage - 2 marks)  (AE)  \n",
    "\n",
    "**Hint: output should be the name of the brand only.**\n",
    "\n",
    "#### NOTE:\n",
    "To count each unique value in the 'name' column of the DataFrame car_sales we can use the value_counts() method. It returns a Series where the index contains unique car names, and the values represent the frequency of each name in the DataFrame.\n",
    "To find the name of the car brand with the maximum count we can use the idxmax() method on the series. It returns the name of the most selling brand in the DataFrame."
   ]
  },
  {
   "cell_type": "raw",
   "metadata": {
    "id": "sE6jp2S0J85E"
   },
   "source": []
  },
  {
   "cell_type": "code",
   "execution_count": 3,
   "metadata": {
    "id": "zFg8_t4HJ85E",
    "outputId": "54676868-ae12-4c9c-f748-bde9b3ec7336"
   },
   "outputs": [
    {
     "data": {
      "text/plain": [
       "name\n",
       "Maruti Swift Dzire VDI    129\n",
       "Name: count, dtype: int64"
      ]
     },
     "execution_count": 3,
     "metadata": {},
     "output_type": "execute_result"
    }
   ],
   "source": [
    "def get_name_value_counts(car_sales):\n",
    "    most_selling_brand = None\n",
    "    #code starts here\n",
    "\n",
    "    most_selling_brand = car_sales['name'].value_counts().head(1)\n",
    "\n",
    "    #code ends here\n",
    "    return most_selling_brand\n",
    "get_name_value_counts(car_sales)"
   ]
  },
  {
   "cell_type": "markdown",
   "metadata": {
    "id": "Vbpjrd4wJ85E"
   },
   "source": [
    "#### T1.3: Name the top 5 cities with the highest number of cars sold.. (weightage - 2 marks)        (AE)\n",
    "\n",
    "**Hint: Output should be city name only in the format of list**\n",
    "\n",
    "#### NOTE:\n",
    "To calculate the count of each unique value in the 'City' column of the DataFrame data use the value_counts() method. It will returns a Series where the index contains unique city names, and the values represent the frequency of each city in the DataFrame.\n",
    "Now to select the top 5 cities with the highest sales count use the head() method on the Series. By default, head() returns the first 5 rows of the Series, which in this case, correspond to the cities with the highest sales."
   ]
  },
  {
   "cell_type": "code",
   "execution_count": 4,
   "metadata": {
    "id": "9Ptt0nQ8J85F",
    "outputId": "da086c8e-d98d-4c89-b4b6-d0844d48ef6d"
   },
   "outputs": [
    {
     "data": {
      "text/plain": [
       "['Delhi', 'Noida', 'Mumbai', 'Coimbatore', 'Vellore']"
      ]
     },
     "execution_count": 4,
     "metadata": {},
     "output_type": "execute_result"
    }
   ],
   "source": [
    "def get_city_value_counts(data):\n",
    "    city_with_max_sales = None\n",
    "    #code starts here\n",
    "    city_with_max_sales = car_sales['City'].value_counts()\n",
    "    #code ends here\n",
    "    return city_with_max_sales.head()\n",
    "# Remove 'name', 'count', and 'dtype' information\n",
    "city_name=get_city_value_counts(car_sales)\n",
    "list(city_name.index)"
   ]
  },
  {
   "cell_type": "markdown",
   "metadata": {
    "id": "74HEFreuJ85F"
   },
   "source": [
    "#### T1.4: Check missing values in the data in terms of percentage using error handling technique and do missing value treatment.  (weightage - 4 marks)       (AE)\n",
    "\n",
    "#### NOTE:\n",
    "Find the percentage of missing values in the data by dividing the total number of missing values by the total number of rows and multiplying by 100, you will get the percentage of missing values for each column.\n",
    "\n",
    "Use `isnull().sum()` to calculate the total number of missing values in each column and `shape[0]` to get the total number of rows in the DataFrame."
   ]
  },
  {
   "cell_type": "code",
   "execution_count": 5,
   "metadata": {
    "id": "uOQOhSpaJ85F",
    "outputId": "345cd756-c03d-48cb-f015-8da91d7cae77"
   },
   "outputs": [
    {
     "data": {
      "text/plain": [
       "Sales_ID         0.000000\n",
       "name             0.000000\n",
       "year             0.000000\n",
       "selling_price    0.000000\n",
       "km_driven        0.000000\n",
       "fuel             0.240324\n",
       "seller_type      0.202378\n",
       "transmission     0.000000\n",
       "owner            0.000000\n",
       "mileage          0.000000\n",
       "engine           0.000000\n",
       "max_power        0.000000\n",
       "seats            0.000000\n",
       "City             0.000000\n",
       "Postal_code      0.000000\n",
       "Sales_status     0.000000\n",
       "dtype: float64"
      ]
     },
     "execution_count": 5,
     "metadata": {},
     "output_type": "execute_result"
    }
   ],
   "source": [
    "def missing_value_check(data):\n",
    "    missing_percentage = None\n",
    "    #code starts here\n",
    "    try:\n",
    "        # Check for missing values\n",
    "\n",
    "        total_rows = data.shape[0]\n",
    "        missing_percentage = (data.isnull().sum() / total_rows) * 100\n",
    "\n",
    "    except Exception as e:\n",
    "        return 'An error occurred'\n",
    "\n",
    "    #code ends here\n",
    "    return missing_percentage\n",
    "missing_value_check(car_sales)"
   ]
  },
  {
   "cell_type": "markdown",
   "metadata": {
    "id": "UwG8EtgkJ85F"
   },
   "source": [
    "#### NOTE:\n",
    "For treating the missing value first define the list of columns containing the names of the columns with missing values which will be treated. Iterate over each column in the list:\n",
    "\n",
    "If the column is numerical, fill the missing values using the mean or median of that column (based on suitability).\n",
    "\n",
    "If the column is categorical, fill the missing values using the mode (most frequent value) of that column."
   ]
  },
  {
   "cell_type": "code",
   "execution_count": 6,
   "metadata": {
    "colab": {
     "base_uri": "https://localhost:8080/"
    },
    "id": "jIOfrEMsKvCB",
    "outputId": "223c40af-e553-4d2e-ac86-3790ff8e3b3c"
   },
   "outputs": [
    {
     "name": "stdout",
     "output_type": "stream",
     "text": [
      "Sales_ID         0\n",
      "name             0\n",
      "year             0\n",
      "selling_price    0\n",
      "km_driven        0\n",
      "fuel             0\n",
      "seller_type      0\n",
      "transmission     0\n",
      "owner            0\n",
      "mileage          0\n",
      "engine           0\n",
      "max_power        0\n",
      "seats            0\n",
      "City             0\n",
      "Postal_code      0\n",
      "Sales_status     0\n",
      "dtype: int64\n"
     ]
    },
    {
     "name": "stderr",
     "output_type": "stream",
     "text": [
      "/tmp/ipykernel_4758/1220269804.py:13: FutureWarning: A value is trying to be set on a copy of a DataFrame or Series through chained assignment using an inplace method.\n",
      "The behavior will change in pandas 3.0. This inplace method will never work because the intermediate object on which we are setting values always behaves as a copy.\n",
      "\n",
      "For example, when doing 'df[col].method(value, inplace=True)', try using 'df.method({col: value}, inplace=True)' or df[col] = df[col].method(value) instead, to perform the operation inplace on the original object.\n",
      "\n",
      "\n",
      "  car_sales[col].fillna(mode_val, inplace=True)\n"
     ]
    }
   ],
   "source": [
    "def missing_value_treatment(car_sales):\n",
    "    # Identify columns with missing values\n",
    "    columns_with_na = [col for col in car_sales.columns if car_sales[col].isnull().any()]\n",
    "\n",
    "    for col in columns_with_na:\n",
    "        if car_sales[col].dtype in ['float64', 'int64']:\n",
    "            # For numeric columns, fill with median (or mean)\n",
    "            median_val = car_sales[col].median()\n",
    "            car_sales[col].fillna(median_val, inplace=True)\n",
    "        else:\n",
    "            # For categorical columns, fill with mode\n",
    "            mode_val = car_sales[col].mode()[0]  # mode() returns a Series\n",
    "            car_sales[col].fillna(mode_val, inplace=True)\n",
    "\n",
    "    return car_sales\n",
    "\n",
    "# Apply the treatment\n",
    "car_sales = missing_value_treatment(car_sales)\n",
    "print(car_sales.isnull().sum())\n"
   ]
  },
  {
   "cell_type": "markdown",
   "metadata": {
    "id": "mD-FudHAJ85F"
   },
   "source": [
    "#### T1.5: Detect Outliers in the data and do outlier treatment. Plot a boxplot to visualize outliers in the data. (weightage – 6 marks)        (AE)     \n",
    "* The extreme values in selling_price due to genuine market conditions, such as luxury properties.Keep the values as it is.\n",
    "\n",
    "#### NOTE:\n",
    "The `sns.boxplot()` function in Seaborn is used to create a box plot visualization, which is a convenient way to visually summarize the distribution of numerical data and identify outliers. Using this detect the outliers in the `car_sales` dataframe."
   ]
  },
  {
   "cell_type": "code",
   "execution_count": 7,
   "metadata": {
    "colab": {
     "base_uri": "https://localhost:8080/",
     "height": 1000
    },
    "id": "ZpasJG1XLQCf",
    "outputId": "dfef0195-80cd-4941-bdf2-3cfbbbb36185"
   },
   "outputs": [
    {
     "data": {
      "image/png": "[encoded data removed]",
      "text/plain": [
       "<Figure size 800x400 with 1 Axes>"
      ]
     },
     "metadata": {},
     "output_type": "display_data"
    },
    {
     "data": {
      "image/png": "[encoded data removed]",
      "text/plain": [
       "<Figure size 800x400 with 1 Axes>"
      ]
     },
     "metadata": {},
     "output_type": "display_data"
    },
    {
     "data": {
      "image/png": "[encoded data removed]",
      "text/plain": [
       "<Figure size 800x400 with 1 Axes>"
      ]
     },
     "metadata": {},
     "output_type": "display_data"
    },
    {
     "data": {
      "image/png": "[encoded data removed]",
      "text/plain": [
       "<Figure size 800x400 with 1 Axes>"
      ]
     },
     "metadata": {},
     "output_type": "display_data"
    },
    {
     "data": {
      "image/png": "[encoded data removed]",
      "text/plain": [
       "<Figure size 800x400 with 1 Axes>"
      ]
     },
     "metadata": {},
     "output_type": "display_data"
    }
   ],
   "source": [
    "def box_plot1(data):\n",
    "    # Drop identifier column if exists (optional)\n",
    "    if 'Sales_ID' in data.columns:\n",
    "        data = data.drop('Sales_ID', axis=1)\n",
    "\n",
    "    # Select only numeric columns\n",
    "    numeric_cols = data.select_dtypes(include=['float64', 'int64']).columns\n",
    "\n",
    "    # Plot boxplot for each numeric column\n",
    "    for col in numeric_cols:\n",
    "        plt.figure(figsize=(8, 4))\n",
    "        sns.boxplot(x=data[col])\n",
    "        plt.title(f'Boxplot of {col}')\n",
    "        plt.xlabel(col)\n",
    "        plt.grid(True)\n",
    "        plt.show()\n",
    "\n",
    "    return data\n",
    "\n",
    "# Call the function\n",
    "car_sales = box_plot1(car_sales)"
   ]
  },
  {
   "cell_type": "markdown",
   "metadata": {
    "id": "2NtHwR6-J85G"
   },
   "source": [
    "#### Define a function `treat_outliers_iqr` to treat outliers using IQR method. Use `median` as treatment method."
   ]
  },
  {
   "cell_type": "markdown",
   "metadata": {
    "id": "raqasofpJ85G"
   },
   "source": [
    "#### NOTE:\n",
    "The outliers in the dataset can be treated using the Interquartile Range (IQR) method. It replaces the outliers with either the median or the mean, based on the specified treatment method. Calculate the first quartile (Q1), third quartile (Q3), and Interquartile Range (IQR) of the data along with the lower and upper bounds for outliers. Then replace the outliers with the median of the data."
   ]
  },
  {
   "cell_type": "code",
   "execution_count": 8,
   "metadata": {
    "colab": {
     "base_uri": "https://localhost:8080/"
    },
    "id": "5zG2ehaWL2y5",
    "outputId": "043de420-289a-47a6-f272-13b487870a3a"
   },
   "outputs": [
    {
     "name": "stdout",
     "output_type": "stream",
     "text": [
      "                           name  year  selling_price  km_driven    fuel  \\\n",
      "0        Maruti Swift Dzire VDI  2014         450000   145500.0  Diesel   \n",
      "1  Skoda Rapid 1.5 TDI Ambition  2014         370000   120000.0  Diesel   \n",
      "2      Honda City 2017-2020 EXi  2006         158000   140000.0  Petrol   \n",
      "3     Hyundai i20 Sportz Diesel  2010         225000   127000.0  Diesel   \n",
      "4        Maruti Swift VXI BSIII  2007         130000   120000.0  Petrol   \n",
      "\n",
      "  seller_type transmission         owner     mileage   engine   max_power  \\\n",
      "0  Individual       Manual   First Owner   23.4 kmpl  1248 CC      74 bhp   \n",
      "1  Individual       Manual  Second Owner  21.14 kmpl  1498 CC  103.52 bhp   \n",
      "2  Individual       Manual   Third Owner   17.7 kmpl  1497 CC      78 bhp   \n",
      "3  Individual       Manual   First Owner   23.0 kmpl  1396 CC      90 bhp   \n",
      "4  Individual       Manual   First Owner   16.1 kmpl  1298 CC    88.2 bhp   \n",
      "\n",
      "   seats      City  Postal_code Sales_status  \n",
      "0      5    Mumbai       400001            Y  \n",
      "1      5    Ranchi       834008            Y  \n",
      "2      5     Noida       201301            Y  \n",
      "3      5  Dehradun       248141            Y  \n",
      "4      5   Chennai       600020            Y  \n"
     ]
    }
   ],
   "source": [
    "def treat_outliers_iqr(data, treatment='median'):\n",
    "    data = data.copy()  # Avoid modifying the original DataFrame\n",
    "\n",
    "    # Identify numeric columns (or specify them if needed)\n",
    "    numeric_columns = ['km_driven']  # Can be parameterized if needed\n",
    "\n",
    "    for col in numeric_columns:\n",
    "        if col in data.columns:\n",
    "            Q1 = data[col].quantile(0.25)\n",
    "            Q3 = data[col].quantile(0.75)\n",
    "            IQR = Q3 - Q1\n",
    "            lower_bound = Q1 - 1.5 * IQR\n",
    "            upper_bound = Q3 + 1.5 * IQR\n",
    "\n",
    "            # Compute replacement value\n",
    "            if treatment == 'median':\n",
    "                replacement_value = data[col].median()\n",
    "            elif treatment == 'mean':\n",
    "                replacement_value = data[col].mean()\n",
    "            else:\n",
    "                raise ValueError(\"treatment must be 'median' or 'mean'\")\n",
    "\n",
    "            # Replace outliers\n",
    "            data[col] = data[col].apply(\n",
    "                lambda x: replacement_value if x < lower_bound or x > upper_bound else x\n",
    "            )\n",
    "    return data\n",
    "\n",
    "# Apply treatment\n",
    "car_sales = treat_outliers_iqr(car_sales, treatment='median')\n",
    "\n",
    "# Display the treated DataFrame\n",
    "print(car_sales.head())\n"
   ]
  },
  {
   "cell_type": "code",
   "execution_count": 9,
   "metadata": {
    "colab": {
     "base_uri": "https://localhost:8080/",
     "height": 1000
    },
    "id": "I12AfSbaL_ks",
    "outputId": "f36c2af4-fd2e-4fa1-9921-58fcf99ca971"
   },
   "outputs": [
    {
     "data": {
      "image/png": "[encoded data removed]",
      "text/plain": [
       "<Figure size 800x400 with 1 Axes>"
      ]
     },
     "metadata": {},
     "output_type": "display_data"
    },
    {
     "data": {
      "image/png": "[encoded data removed]",
      "text/plain": [
       "<Figure size 800x400 with 1 Axes>"
      ]
     },
     "metadata": {},
     "output_type": "display_data"
    },
    {
     "data": {
      "image/png": "[encoded data removed]",
      "text/plain": [
       "<Figure size 800x400 with 1 Axes>"
      ]
     },
     "metadata": {},
     "output_type": "display_data"
    },
    {
     "data": {
      "image/png": "[encoded data removed]",
      "text/plain": [
       "<Figure size 800x400 with 1 Axes>"
      ]
     },
     "metadata": {},
     "output_type": "display_data"
    },
    {
     "data": {
      "image/png": "[encoded data removed]",
      "text/plain": [
       "<Figure size 800x400 with 1 Axes>"
      ]
     },
     "metadata": {},
     "output_type": "display_data"
    }
   ],
   "source": [
    "import seaborn as sns\n",
    "import matplotlib.pyplot as plt\n",
    "\n",
    "def box_plot2(data):\n",
    "    # Drop identifier column if it exists\n",
    "    if 'Sales_ID' in data.columns:\n",
    "        data = data.drop('Sales_ID', axis=1)\n",
    "\n",
    "    # Select numeric columns\n",
    "    numeric_cols = data.select_dtypes(include=['int64', 'float64']).columns\n",
    "\n",
    "    # Create boxplots for each numeric column\n",
    "    for col in numeric_cols:\n",
    "        plt.figure(figsize=(8, 4))\n",
    "        sns.boxplot(x=data[col])\n",
    "        plt.title(f'Boxplot of {col}')\n",
    "        plt.xlabel(col)\n",
    "        plt.grid(True)\n",
    "        plt.show()\n",
    "\n",
    "    return  # No data returned, just visualization\n",
    "\n",
    "# Call the function\n",
    "box_plot2(car_sales)\n"
   ]
  },
  {
   "cell_type": "markdown",
   "metadata": {
    "id": "UrHnaSqNJ85G"
   },
   "source": [
    "#### T1.6: Which variables are significant in predicting the price of a used car? To answer this question, it is important to understand the correlation between the different variables. i.e how much the other features affect the selling price of a used car. (Bivariate analysis) (weightage - 3 marks)               (AE)"
   ]
  },
  {
   "cell_type": "markdown",
   "metadata": {
    "id": "1MznFIimJ85G"
   },
   "source": [
    "#### Cleaning the data"
   ]
  },
  {
   "cell_type": "markdown",
   "metadata": {
    "id": "CEyvDhTcJ85G"
   },
   "source": [
    "#### NOTE:\n",
    "To understand the correlation between different variables , we have to convert the non numeric columns into numeric columns. Clean the data type of the 'max_power', 'engine', and 'mileage' columns in a DataFrame by converting them into numeric types by removing the units in order to perform correlation on them.\n",
    "\n",
    "Removes the following non-numeric suffix using string manipulation functions:\n",
    "* 'bhp' for max_power,\n",
    "* 'CC' for engine,\n",
    "* 'kmpl' or 'km/kg' for mileage\n",
    "\n",
    "Converts the data type of each of the above column to float"
   ]
  },
  {
   "cell_type": "code",
   "execution_count": 10,
   "metadata": {
    "colab": {
     "base_uri": "https://localhost:8080/",
     "height": 258
    },
    "id": "2f3zLwtXMVPS",
    "outputId": "e4e5a0e4-5ab8-47ec-882c-e2f80707af38"
   },
   "outputs": [
    {
     "data": {
      "text/html": [
       "<div>\n",
       "<style scoped>\n",
       "    .dataframe tbody tr th:only-of-type {\n",
       "        vertical-align: middle;\n",
       "    }\n",
       "\n",
       "    .dataframe tbody tr th {\n",
       "        vertical-align: top;\n",
       "    }\n",
       "\n",
       "    .dataframe thead th {\n",
       "        text-align: right;\n",
       "    }\n",
       "</style>\n",
       "<table border=\"1\" class=\"dataframe\">\n",
       "  <thead>\n",
       "    <tr style=\"text-align: right;\">\n",
       "      <th></th>\n",
       "      <th>name</th>\n",
       "      <th>year</th>\n",
       "      <th>selling_price</th>\n",
       "      <th>km_driven</th>\n",
       "      <th>fuel</th>\n",
       "      <th>seller_type</th>\n",
       "      <th>transmission</th>\n",
       "      <th>owner</th>\n",
       "      <th>mileage</th>\n",
       "      <th>engine</th>\n",
       "      <th>max_power</th>\n",
       "      <th>seats</th>\n",
       "      <th>City</th>\n",
       "      <th>Postal_code</th>\n",
       "      <th>Sales_status</th>\n",
       "    </tr>\n",
       "  </thead>\n",
       "  <tbody>\n",
       "    <tr>\n",
       "      <th>0</th>\n",
       "      <td>Maruti Swift Dzire VDI</td>\n",
       "      <td>2014</td>\n",
       "      <td>450000</td>\n",
       "      <td>145500.0</td>\n",
       "      <td>Diesel</td>\n",
       "      <td>Individual</td>\n",
       "      <td>Manual</td>\n",
       "      <td>First Owner</td>\n",
       "      <td>23.40</td>\n",
       "      <td>1248</td>\n",
       "      <td>74.00</td>\n",
       "      <td>5</td>\n",
       "      <td>Mumbai</td>\n",
       "      <td>400001</td>\n",
       "      <td>Y</td>\n",
       "    </tr>\n",
       "    <tr>\n",
       "      <th>1</th>\n",
       "      <td>Skoda Rapid 1.5 TDI Ambition</td>\n",
       "      <td>2014</td>\n",
       "      <td>370000</td>\n",
       "      <td>120000.0</td>\n",
       "      <td>Diesel</td>\n",
       "      <td>Individual</td>\n",
       "      <td>Manual</td>\n",
       "      <td>Second Owner</td>\n",
       "      <td>21.14</td>\n",
       "      <td>1498</td>\n",
       "      <td>103.52</td>\n",
       "      <td>5</td>\n",
       "      <td>Ranchi</td>\n",
       "      <td>834008</td>\n",
       "      <td>Y</td>\n",
       "    </tr>\n",
       "    <tr>\n",
       "      <th>2</th>\n",
       "      <td>Honda City 2017-2020 EXi</td>\n",
       "      <td>2006</td>\n",
       "      <td>158000</td>\n",
       "      <td>140000.0</td>\n",
       "      <td>Petrol</td>\n",
       "      <td>Individual</td>\n",
       "      <td>Manual</td>\n",
       "      <td>Third Owner</td>\n",
       "      <td>17.70</td>\n",
       "      <td>1497</td>\n",
       "      <td>78.00</td>\n",
       "      <td>5</td>\n",
       "      <td>Noida</td>\n",
       "      <td>201301</td>\n",
       "      <td>Y</td>\n",
       "    </tr>\n",
       "    <tr>\n",
       "      <th>3</th>\n",
       "      <td>Hyundai i20 Sportz Diesel</td>\n",
       "      <td>2010</td>\n",
       "      <td>225000</td>\n",
       "      <td>127000.0</td>\n",
       "      <td>Diesel</td>\n",
       "      <td>Individual</td>\n",
       "      <td>Manual</td>\n",
       "      <td>First Owner</td>\n",
       "      <td>23.00</td>\n",
       "      <td>1396</td>\n",
       "      <td>90.00</td>\n",
       "      <td>5</td>\n",
       "      <td>Dehradun</td>\n",
       "      <td>248141</td>\n",
       "      <td>Y</td>\n",
       "    </tr>\n",
       "    <tr>\n",
       "      <th>4</th>\n",
       "      <td>Maruti Swift VXI BSIII</td>\n",
       "      <td>2007</td>\n",
       "      <td>130000</td>\n",
       "      <td>120000.0</td>\n",
       "      <td>Petrol</td>\n",
       "      <td>Individual</td>\n",
       "      <td>Manual</td>\n",
       "      <td>First Owner</td>\n",
       "      <td>16.10</td>\n",
       "      <td>1298</td>\n",
       "      <td>88.20</td>\n",
       "      <td>5</td>\n",
       "      <td>Chennai</td>\n",
       "      <td>600020</td>\n",
       "      <td>Y</td>\n",
       "    </tr>\n",
       "  </tbody>\n",
       "</table>\n",
       "</div>"
      ],
      "text/plain": [
       "                           name  year  selling_price  km_driven    fuel  \\\n",
       "0        Maruti Swift Dzire VDI  2014         450000   145500.0  Diesel   \n",
       "1  Skoda Rapid 1.5 TDI Ambition  2014         370000   120000.0  Diesel   \n",
       "2      Honda City 2017-2020 EXi  2006         158000   140000.0  Petrol   \n",
       "3     Hyundai i20 Sportz Diesel  2010         225000   127000.0  Diesel   \n",
       "4        Maruti Swift VXI BSIII  2007         130000   120000.0  Petrol   \n",
       "\n",
       "  seller_type transmission         owner  mileage  engine  max_power  seats  \\\n",
       "0  Individual       Manual   First Owner    23.40    1248      74.00      5   \n",
       "1  Individual       Manual  Second Owner    21.14    1498     103.52      5   \n",
       "2  Individual       Manual   Third Owner    17.70    1497      78.00      5   \n",
       "3  Individual       Manual   First Owner    23.00    1396      90.00      5   \n",
       "4  Individual       Manual   First Owner    16.10    1298      88.20      5   \n",
       "\n",
       "       City  Postal_code Sales_status  \n",
       "0    Mumbai       400001            Y  \n",
       "1    Ranchi       834008            Y  \n",
       "2     Noida       201301            Y  \n",
       "3  Dehradun       248141            Y  \n",
       "4   Chennai       600020            Y  "
      ]
     },
     "execution_count": 10,
     "metadata": {},
     "output_type": "execute_result"
    }
   ],
   "source": [
    "def clean_car_sales_data(df):\n",
    "    df = df.copy()  # Avoid modifying the original dataframe directly\n",
    "\n",
    "    # Remove units and convert to float\n",
    "    if 'max_power' in df.columns:\n",
    "        df['max_power'] = df['max_power'].str.replace('bhp', '', regex=False).str.strip()\n",
    "        df['max_power'] = pd.to_numeric(df['max_power'], errors='coerce')\n",
    "\n",
    "    if 'engine' in df.columns:\n",
    "        df['engine'] = df['engine'].str.replace('CC', '', regex=False).str.strip()\n",
    "        df['engine'] = pd.to_numeric(df['engine'], errors='coerce')\n",
    "\n",
    "    if 'mileage' in df.columns:\n",
    "        df['mileage'] = df['mileage'].str.replace('kmpl', '', regex=False)\n",
    "        df['mileage'] = df['mileage'].str.replace('km/kg', '', regex=False)\n",
    "        df['mileage'] = df['mileage'].str.strip()\n",
    "        df['mileage'] = pd.to_numeric(df['mileage'], errors='coerce')\n",
    "\n",
    "    return df\n",
    "\n",
    "# Apply the cleaning function\n",
    "car_sales = clean_car_sales_data(car_sales)\n",
    "\n",
    "# Display the cleaned dataframe\n",
    "car_sales.head()\n"
   ]
  },
  {
   "cell_type": "markdown",
   "metadata": {
    "id": "j76DlcinJ85G"
   },
   "source": [
    "#### Correlation between numerical variables and target variable"
   ]
  },
  {
   "cell_type": "markdown",
   "metadata": {
    "id": "6OEiff01J85G"
   },
   "source": [
    "#### NOTE:\n",
    "Using Python function `corr` compute the correlation matrix of a DataFrame df containing numeric columns.\n",
    "Ensure that only numeric columns are included in the correlation computation."
   ]
  },
  {
   "cell_type": "code",
   "execution_count": 11,
   "metadata": {
    "colab": {
     "base_uri": "https://localhost:8080/",
     "height": 300
    },
    "id": "6eyl8QpnJ85H",
    "outputId": "933bf98e-1a30-4b5f-8fbe-a1df9649de62"
   },
   "outputs": [
    {
     "data": {
      "text/html": [
       "<div>\n",
       "<style scoped>\n",
       "    .dataframe tbody tr th:only-of-type {\n",
       "        vertical-align: middle;\n",
       "    }\n",
       "\n",
       "    .dataframe tbody tr th {\n",
       "        vertical-align: top;\n",
       "    }\n",
       "\n",
       "    .dataframe thead th {\n",
       "        text-align: right;\n",
       "    }\n",
       "</style>\n",
       "<table border=\"1\" class=\"dataframe\">\n",
       "  <thead>\n",
       "    <tr style=\"text-align: right;\">\n",
       "      <th></th>\n",
       "      <th>year</th>\n",
       "      <th>selling_price</th>\n",
       "      <th>km_driven</th>\n",
       "      <th>mileage</th>\n",
       "      <th>engine</th>\n",
       "      <th>max_power</th>\n",
       "      <th>seats</th>\n",
       "      <th>Postal_code</th>\n",
       "    </tr>\n",
       "  </thead>\n",
       "  <tbody>\n",
       "    <tr>\n",
       "      <th>year</th>\n",
       "      <td>1.000000</td>\n",
       "      <td>0.413139</td>\n",
       "      <td>-0.502279</td>\n",
       "      <td>0.328544</td>\n",
       "      <td>0.018263</td>\n",
       "      <td>0.226598</td>\n",
       "      <td>-0.007923</td>\n",
       "      <td>0.004923</td>\n",
       "    </tr>\n",
       "    <tr>\n",
       "      <th>selling_price</th>\n",
       "      <td>0.413139</td>\n",
       "      <td>1.000000</td>\n",
       "      <td>-0.291603</td>\n",
       "      <td>-0.127900</td>\n",
       "      <td>0.456573</td>\n",
       "      <td>0.749512</td>\n",
       "      <td>0.042065</td>\n",
       "      <td>0.008702</td>\n",
       "    </tr>\n",
       "    <tr>\n",
       "      <th>km_driven</th>\n",
       "      <td>-0.502279</td>\n",
       "      <td>-0.291603</td>\n",
       "      <td>1.000000</td>\n",
       "      <td>-0.147062</td>\n",
       "      <td>0.184414</td>\n",
       "      <td>-0.065224</td>\n",
       "      <td>0.205862</td>\n",
       "      <td>-0.008811</td>\n",
       "    </tr>\n",
       "    <tr>\n",
       "      <th>mileage</th>\n",
       "      <td>0.328544</td>\n",
       "      <td>-0.127900</td>\n",
       "      <td>-0.147062</td>\n",
       "      <td>1.000000</td>\n",
       "      <td>-0.576408</td>\n",
       "      <td>-0.374621</td>\n",
       "      <td>-0.451700</td>\n",
       "      <td>-0.009599</td>\n",
       "    </tr>\n",
       "    <tr>\n",
       "      <th>engine</th>\n",
       "      <td>0.018263</td>\n",
       "      <td>0.456573</td>\n",
       "      <td>0.184414</td>\n",
       "      <td>-0.576408</td>\n",
       "      <td>1.000000</td>\n",
       "      <td>0.703975</td>\n",
       "      <td>0.611103</td>\n",
       "      <td>0.004543</td>\n",
       "    </tr>\n",
       "    <tr>\n",
       "      <th>max_power</th>\n",
       "      <td>0.226598</td>\n",
       "      <td>0.749512</td>\n",
       "      <td>-0.065224</td>\n",
       "      <td>-0.374621</td>\n",
       "      <td>0.703975</td>\n",
       "      <td>1.000000</td>\n",
       "      <td>0.191999</td>\n",
       "      <td>0.007089</td>\n",
       "    </tr>\n",
       "    <tr>\n",
       "      <th>seats</th>\n",
       "      <td>-0.007923</td>\n",
       "      <td>0.042065</td>\n",
       "      <td>0.205862</td>\n",
       "      <td>-0.451700</td>\n",
       "      <td>0.611103</td>\n",
       "      <td>0.191999</td>\n",
       "      <td>1.000000</td>\n",
       "      <td>-0.004773</td>\n",
       "    </tr>\n",
       "    <tr>\n",
       "      <th>Postal_code</th>\n",
       "      <td>0.004923</td>\n",
       "      <td>0.008702</td>\n",
       "      <td>-0.008811</td>\n",
       "      <td>-0.009599</td>\n",
       "      <td>0.004543</td>\n",
       "      <td>0.007089</td>\n",
       "      <td>-0.004773</td>\n",
       "      <td>1.000000</td>\n",
       "    </tr>\n",
       "  </tbody>\n",
       "</table>\n",
       "</div>"
      ],
      "text/plain": [
       "                   year  selling_price  km_driven   mileage    engine  \\\n",
       "year           1.000000       0.413139  -0.502279  0.328544  0.018263   \n",
       "selling_price  0.413139       1.000000  -0.291603 -0.127900  0.456573   \n",
       "km_driven     -0.502279      -0.291603   1.000000 -0.147062  0.184414   \n",
       "mileage        0.328544      -0.127900  -0.147062  1.000000 -0.576408   \n",
       "engine         0.018263       0.456573   0.184414 -0.576408  1.000000   \n",
       "max_power      0.226598       0.749512  -0.065224 -0.374621  0.703975   \n",
       "seats         -0.007923       0.042065   0.205862 -0.451700  0.611103   \n",
       "Postal_code    0.004923       0.008702  -0.008811 -0.009599  0.004543   \n",
       "\n",
       "               max_power     seats  Postal_code  \n",
       "year            0.226598 -0.007923     0.004923  \n",
       "selling_price   0.749512  0.042065     0.008702  \n",
       "km_driven      -0.065224  0.205862    -0.008811  \n",
       "mileage        -0.374621 -0.451700    -0.009599  \n",
       "engine          0.703975  0.611103     0.004543  \n",
       "max_power       1.000000  0.191999     0.007089  \n",
       "seats           0.191999  1.000000    -0.004773  \n",
       "Postal_code     0.007089 -0.004773     1.000000  "
      ]
     },
     "execution_count": 11,
     "metadata": {},
     "output_type": "execute_result"
    }
   ],
   "source": [
    "def corr(df):\n",
    "    # Select only numeric columns\n",
    "    numeric_df = df.select_dtypes(include=['int64', 'float64'])\n",
    "\n",
    "    # Compute the correlation matrix\n",
    "    correlation = numeric_df.corr()\n",
    "\n",
    "    return correlation\n",
    "\n",
    "# Compute correlation matrix\n",
    "corr_data = corr(car_sales)\n",
    "corr_data\n"
   ]
  },
  {
   "cell_type": "markdown",
   "metadata": {
    "id": "NvbOHWe0J85H"
   },
   "source": [
    "#### T1.7: Come up with Insights and validate the hypothesis:                         (weightage: 15 marks)  (AE)\n",
    "\n",
    "(i) Is there a statistically significant difference in the average mileage of cars across different fuel types and transmission types?\n",
    "\n",
    "(ii) Is there a statistically significant difference in the selling prices of cars between individual and dealer sellers?\n",
    "\n",
    "(iii)Is there a relationship between the type of fuel and transmission in cars?"
   ]
  },
  {
   "cell_type": "markdown",
   "metadata": {
    "id": "1g5ztQonJ85H"
   },
   "source": [
    "#### (i) Is there a statistically significant difference in the average mileage of cars across different fuel types and transmission types?\n",
    "\n",
    "- If yes,print :\"There is a significant difference in the average mileage of cars across different fuel types and transmission types\"\n",
    "- If no, print: There is no significant difference in the average mileage of cars across different fuel types and transmission types\""
   ]
  },
  {
   "cell_type": "markdown",
   "metadata": {
    "id": "q-cQctN_J85H"
   },
   "source": [
    "#### NOTE:\n",
    "Conduct an Analysis of Variance (ANOVA) test to determine if there is a significant difference in the average mileage of cars across different fuel types and transmission types.\n",
    "* Groups the data to create separate groups for each category.\n",
    "* Then perform the ANOVA test using the stats.f_oneway() function from the scipy.stats module.\n",
    "* Compare the obtained p-value with a significance level (alpha)\n",
    "* Based on the comparison, determine whether there is a significant difference in the average mileage of cars across different fuel types and transmission types."
   ]
  },
  {
   "cell_type": "code",
   "execution_count": 12,
   "metadata": {
    "colab": {
     "base_uri": "https://localhost:8080/"
    },
    "id": "9E2_a48ONCTg",
    "outputId": "42fd1c21-1ccb-47f0-e01c-bcc38b7c7b58"
   },
   "outputs": [
    {
     "name": "stdout",
     "output_type": "stream",
     "text": [
      "There is a significant difference in the average mileage of cars across different fuel types.\n",
      "There is a significant difference in the average mileage of cars across different transmission types.\n"
     ]
    },
    {
     "data": {
      "text/plain": [
       "{'Fuel Type ANOVA': {'F-statistic': 37.910797154667776,\n",
       "  'p-value': 4.1117682388313524e-17},\n",
       " 'Transmission Type ANOVA': {'F-statistic': 261.5934087555613,\n",
       "  'p-value': 6.516583778060236e-58}}"
      ]
     },
     "execution_count": 12,
     "metadata": {},
     "output_type": "execute_result"
    }
   ],
   "source": [
    "import scipy.stats as stats\n",
    "\n",
    "def perform_anova(car_data):\n",
    "    alpha = 0.05  # significance level\n",
    "\n",
    "    # Drop missing mileage and categorical columns to avoid issues\n",
    "    car_data = car_data.dropna(subset=['mileage', 'fuel', 'transmission'])\n",
    "\n",
    "    # --- ANOVA for Fuel Type ---\n",
    "    groups_fuel = [group['mileage'].values for name, group in car_data.groupby('fuel')]\n",
    "    stat_fuel, p_fuel = stats.f_oneway(*groups_fuel)\n",
    "\n",
    "    if p_fuel < alpha:\n",
    "        print(\"There is a significant difference in the average mileage of cars across different fuel types.\")\n",
    "    else:\n",
    "        print(\"There is no significant difference in the average mileage of cars across different fuel types.\")\n",
    "\n",
    "    # --- ANOVA for Transmission Type ---\n",
    "    groups_trans = [group['mileage'].values for name, group in car_data.groupby('transmission')]\n",
    "    stat_trans, p_trans = stats.f_oneway(*groups_trans)\n",
    "\n",
    "    if p_trans < alpha:\n",
    "        print(\"There is a significant difference in the average mileage of cars across different transmission types.\")\n",
    "    else:\n",
    "        print(\"There is no significant difference in the average mileage of cars across different transmission types.\")\n",
    "\n",
    "    return {\n",
    "        'Fuel Type ANOVA': {'F-statistic': stat_fuel, 'p-value': p_fuel},\n",
    "        'Transmission Type ANOVA': {'F-statistic': stat_trans, 'p-value': p_trans}\n",
    "    }\n",
    "\n",
    "# Call the function\n",
    "perform_anova(car_sales)\n"
   ]
  },
  {
   "cell_type": "markdown",
   "metadata": {
    "id": "eCXGCBeHJ85O"
   },
   "source": [
    "#### (ii) Is there a statistically significant difference in the selling prices of cars between individual and dealer sellers?\n",
    "\n",
    "- If yes,print : \"There is a statistically significant difference in the selling prices of cars between individual and dealer sellers\"\n",
    "- If no, print: \"There is no statistically significant difference in the selling prices of cars between individual and dealer sellers\""
   ]
  },
  {
   "cell_type": "code",
   "execution_count": 13,
   "metadata": {
    "colab": {
     "base_uri": "https://localhost:8080/"
    },
    "id": "FokWaq-HNRT1",
    "outputId": "e4882de7-3a2f-4826-e258-f24297806ff8"
   },
   "outputs": [
    {
     "name": "stdout",
     "output_type": "stream",
     "text": [
      "There is a statistically significant difference in the selling prices of cars between individual and dealer sellers\n"
     ]
    },
    {
     "data": {
      "text/plain": [
       "{'t-statistic': -19.98367627477259, 'p-value': 5.353170623164072e-77}"
      ]
     },
     "execution_count": 13,
     "metadata": {},
     "output_type": "execute_result"
    }
   ],
   "source": [
    "from scipy.stats import ttest_ind\n",
    "\n",
    "def compare_seller_prices(car_data):\n",
    "    alpha = 0.05  # significance level\n",
    "\n",
    "    # Drop missing values in 'selling_price' or 'seller_type'\n",
    "    car_data = car_data.dropna(subset=['selling_price', 'seller_type'])\n",
    "\n",
    "    # Filter only 'Individual' and 'Dealer' seller types\n",
    "    individuals = car_data[car_data['seller_type'] == 'Individual']['selling_price']\n",
    "    dealers = car_data[car_data['seller_type'] == 'Dealer']['selling_price']\n",
    "\n",
    "    # Perform independent t-test\n",
    "    stat, p_value = ttest_ind(individuals, dealers, equal_var=False)\n",
    "\n",
    "    # Evaluate result\n",
    "    if p_value < alpha:\n",
    "        print(\"There is a statistically significant difference in the selling prices of cars between individual and dealer sellers\")\n",
    "    else:\n",
    "        print(\"There is no statistically significant difference in the selling prices of cars between individual and dealer sellers\")\n",
    "\n",
    "    return {'t-statistic': stat, 'p-value': p_value}\n",
    "\n",
    "# Call the function\n",
    "compare_seller_prices(car_sales)\n"
   ]
  },
  {
   "cell_type": "markdown",
   "metadata": {
    "id": "MmYRhBKTJ85O"
   },
   "source": [
    "#### Note:\n",
    "Conducts an independent two-sample t-test to determine if there is a statistically significant difference in the selling prices of cars between individual and dealer sellers.\n",
    "* Filter the data based on the 'seller_type' column to separate the selling prices of cars sold by individual sellers and dealer sellers.\n",
    "* Perform the independent two-sample t-test using the ttest_ind() function from the scipy.stats module.\n",
    "* Compare the obtained p-value with a significance level (alpha)\n",
    "* Based on the comparison,determines whether there is a statistically significant difference in the selling prices of cars between individual and dealer sellers."
   ]
  },
  {
   "cell_type": "code",
   "execution_count": 14,
   "metadata": {
    "colab": {
     "base_uri": "https://localhost:8080/"
    },
    "id": "0utEZgwsJ85O",
    "outputId": "93247776-fcd2-4dd2-fce4-cba47985ebae"
   },
   "outputs": [
    {
     "name": "stdout",
     "output_type": "stream",
     "text": [
      "There is a statistically significant difference in the selling prices of cars between individual and dealer sellers\n"
     ]
    },
    {
     "data": {
      "text/plain": [
       "{'t-statistic': -19.98367627477259, 'p-value': 5.353170623164072e-77}"
      ]
     },
     "execution_count": 14,
     "metadata": {},
     "output_type": "execute_result"
    }
   ],
   "source": [
    "from scipy.stats import ttest_ind\n",
    "\n",
    "def seller_type_influence_test(car_sales):\n",
    "    result2 = None\n",
    "\n",
    "    # Filter data based on seller type and drop missing selling_price\n",
    "    individuals = car_sales[car_sales['seller_type'] == 'Individual']['selling_price'].dropna()\n",
    "    dealers = car_sales[car_sales['seller_type'] == 'Dealer']['selling_price'].dropna()\n",
    "\n",
    "    # Perform independent two-sample t-test (Welch’s t-test)\n",
    "    stat, p_value = ttest_ind(individuals, dealers, equal_var=False)\n",
    "\n",
    "    alpha = 0.05  # significance level\n",
    "\n",
    "    # Interpret results\n",
    "    if p_value < alpha:\n",
    "        print(\"There is a statistically significant difference in the selling prices of cars between individual and dealer sellers\")\n",
    "    else:\n",
    "        print(\"There is no statistically significant difference in the selling prices of cars between individual and dealer sellers\")\n",
    "\n",
    "    result2 = {'t-statistic': stat, 'p-value': p_value}\n",
    "    return result2\n",
    "\n",
    "# Call the function\n",
    "seller_type_influence_test(car_sales)\n"
   ]
  },
  {
   "cell_type": "markdown",
   "metadata": {
    "id": "MtjdFaa8J85P"
   },
   "source": [
    "#### (iii) Is there a relationship between the type of fuel and transmission in cars?\n",
    "\n",
    "- If yes,print : \"There is a statistically significant relationship between the type of fuel and transmission in cars\"\n",
    "- If no, print: \"There is no statistically significant relationship between the type of fuel and transmission in cars\""
   ]
  },
  {
   "cell_type": "code",
   "execution_count": 15,
   "metadata": {
    "colab": {
     "base_uri": "https://localhost:8080/"
    },
    "id": "vo5rCBUON3JO",
    "outputId": "85eeae51-e42c-4900-f0bf-56a3b4cb50d0"
   },
   "outputs": [
    {
     "name": "stdout",
     "output_type": "stream",
     "text": [
      "There is a statistically significant relationship between the type of fuel and transmission in cars\n"
     ]
    },
    {
     "data": {
      "text/plain": [
       "{'chi2_statistic': 21.146960372715238,\n",
       " 'p-value': 2.5585617356857665e-05,\n",
       " 'degrees_of_freedom': 2}"
      ]
     },
     "execution_count": 15,
     "metadata": {},
     "output_type": "execute_result"
    }
   ],
   "source": [
    "from scipy.stats import chi2_contingency\n",
    "\n",
    "def fuel_transmission_relationship(car_sales):\n",
    "    # Create a contingency table of fuel vs transmission\n",
    "    contingency_table = pd.crosstab(car_sales['fuel'], car_sales['transmission'])\n",
    "\n",
    "    # Perform Chi-square test of independence\n",
    "    chi2, p_value, dof, expected = chi2_contingency(contingency_table)\n",
    "\n",
    "    alpha = 0.05  # significance level\n",
    "\n",
    "    # Interpret results\n",
    "    if p_value < alpha:\n",
    "        print(\"There is a statistically significant relationship between the type of fuel and transmission in cars\")\n",
    "    else:\n",
    "        print(\"There is no statistically significant relationship between the type of fuel and transmission in cars\")\n",
    "\n",
    "    return {'chi2_statistic': chi2, 'p-value': p_value, 'degrees_of_freedom': dof}\n",
    "\n",
    "# Call the function\n",
    "fuel_transmission_relationship(car_sales)\n"
   ]
  },
  {
   "cell_type": "markdown",
   "metadata": {
    "id": "xtmQOubdJ85P"
   },
   "source": [
    "#### NOTE:\n",
    "Conduct a chi-square test of independence to determine if there is a statistically significant relationship between the type of fuel and transmission in cars.\n",
    "* Creates a contingency table of observed frequencies using the pd.crosstab() function.\n",
    "* Perform the chi-square test of independence using the stats.chi2_contingency() function from the scipy.stats module.\n",
    "* Compare the obtained p-value with a significance level (alpha)\n",
    "* Based on the comparison, determine whether there is a statistically significant relationship between the type of fuel and transmission in cars."
   ]
  },
  {
   "cell_type": "code",
   "execution_count": 16,
   "metadata": {
    "colab": {
     "base_uri": "https://localhost:8080/"
    },
    "id": "BQzV9h_dOKrU",
    "outputId": "4f09cbcb-e869-48c2-ba5c-49d6218e1411"
   },
   "outputs": [
    {
     "name": "stdout",
     "output_type": "stream",
     "text": [
      "There is a statistically significant relationship between the type of fuel and transmission in cars\n"
     ]
    },
    {
     "data": {
      "text/plain": [
       "{'chi2_statistic': 21.146960372715238, 'p_value': 2.5585617356857665e-05}"
      ]
     },
     "execution_count": 16,
     "metadata": {},
     "output_type": "execute_result"
    }
   ],
   "source": [
    "from scipy.stats import chi2_contingency\n",
    "import pandas as pd\n",
    "\n",
    "def chi_square_test(car_data):\n",
    "    result3 = None\n",
    "    # Create a contingency table of observed frequencies\n",
    "    contingency_table = pd.crosstab(car_data['fuel'], car_data['transmission'])\n",
    "\n",
    "    # Perform Chi-square test\n",
    "    chi2, p_value, dof, expected = chi2_contingency(contingency_table)\n",
    "\n",
    "    # Compare p-value with significance level (e.g., 0.05)\n",
    "    alpha = 0.05\n",
    "    if p_value < alpha:\n",
    "        print(\"There is a statistically significant relationship between the type of fuel and transmission in cars\")\n",
    "    else:\n",
    "        print(\"There is no statistically significant relationship between the type of fuel and transmission in cars\")\n",
    "\n",
    "    # Return Chi-square statistic, p-value, and result message\n",
    "    result3 = {'chi2_statistic': chi2, 'p_value': p_value}\n",
    "    return result3\n",
    "\n",
    "# Call the function\n",
    "chi_square_test(car_sales)\n"
   ]
  },
  {
   "cell_type": "markdown",
   "metadata": {
    "id": "j_CZlbJqJ85P"
   },
   "source": [
    "#### T1.8: Data Transformation:  remove the given variables for model building process (\"name\",\"Postal_code\",\"Sales_ID\"). (weightage - 2 marks)        (AE)      "
   ]
  },
  {
   "cell_type": "markdown",
   "metadata": {
    "id": "W8WgfsAxJ85P"
   },
   "source": [
    "#### NOTE:\n",
    "Drop the varaiables \"name\",\"Postal_code\",\"Sales_ID\" from the dataframe using the drop() function."
   ]
  },
  {
   "cell_type": "code",
   "execution_count": 17,
   "metadata": {
    "colab": {
     "base_uri": "https://localhost:8080/",
     "height": 423
    },
    "id": "OMm05Fj4OhqE",
    "outputId": "6574500a-fd4f-4cc5-a9e7-c5858d3232f9"
   },
   "outputs": [
    {
     "data": {
      "text/html": [
       "<div>\n",
       "<style scoped>\n",
       "    .dataframe tbody tr th:only-of-type {\n",
       "        vertical-align: middle;\n",
       "    }\n",
       "\n",
       "    .dataframe tbody tr th {\n",
       "        vertical-align: top;\n",
       "    }\n",
       "\n",
       "    .dataframe thead th {\n",
       "        text-align: right;\n",
       "    }\n",
       "</style>\n",
       "<table border=\"1\" class=\"dataframe\">\n",
       "  <thead>\n",
       "    <tr style=\"text-align: right;\">\n",
       "      <th></th>\n",
       "      <th>year</th>\n",
       "      <th>selling_price</th>\n",
       "      <th>km_driven</th>\n",
       "      <th>fuel</th>\n",
       "      <th>seller_type</th>\n",
       "      <th>transmission</th>\n",
       "      <th>owner</th>\n",
       "      <th>mileage</th>\n",
       "      <th>engine</th>\n",
       "      <th>max_power</th>\n",
       "      <th>seats</th>\n",
       "      <th>City</th>\n",
       "      <th>Sales_status</th>\n",
       "    </tr>\n",
       "  </thead>\n",
       "  <tbody>\n",
       "    <tr>\n",
       "      <th>0</th>\n",
       "      <td>2014</td>\n",
       "      <td>450000</td>\n",
       "      <td>145500.0</td>\n",
       "      <td>Diesel</td>\n",
       "      <td>Individual</td>\n",
       "      <td>Manual</td>\n",
       "      <td>First Owner</td>\n",
       "      <td>23.40</td>\n",
       "      <td>1248</td>\n",
       "      <td>74.00</td>\n",
       "      <td>5</td>\n",
       "      <td>Mumbai</td>\n",
       "      <td>Y</td>\n",
       "    </tr>\n",
       "    <tr>\n",
       "      <th>1</th>\n",
       "      <td>2014</td>\n",
       "      <td>370000</td>\n",
       "      <td>120000.0</td>\n",
       "      <td>Diesel</td>\n",
       "      <td>Individual</td>\n",
       "      <td>Manual</td>\n",
       "      <td>Second Owner</td>\n",
       "      <td>21.14</td>\n",
       "      <td>1498</td>\n",
       "      <td>103.52</td>\n",
       "      <td>5</td>\n",
       "      <td>Ranchi</td>\n",
       "      <td>Y</td>\n",
       "    </tr>\n",
       "    <tr>\n",
       "      <th>2</th>\n",
       "      <td>2006</td>\n",
       "      <td>158000</td>\n",
       "      <td>140000.0</td>\n",
       "      <td>Petrol</td>\n",
       "      <td>Individual</td>\n",
       "      <td>Manual</td>\n",
       "      <td>Third Owner</td>\n",
       "      <td>17.70</td>\n",
       "      <td>1497</td>\n",
       "      <td>78.00</td>\n",
       "      <td>5</td>\n",
       "      <td>Noida</td>\n",
       "      <td>Y</td>\n",
       "    </tr>\n",
       "    <tr>\n",
       "      <th>3</th>\n",
       "      <td>2010</td>\n",
       "      <td>225000</td>\n",
       "      <td>127000.0</td>\n",
       "      <td>Diesel</td>\n",
       "      <td>Individual</td>\n",
       "      <td>Manual</td>\n",
       "      <td>First Owner</td>\n",
       "      <td>23.00</td>\n",
       "      <td>1396</td>\n",
       "      <td>90.00</td>\n",
       "      <td>5</td>\n",
       "      <td>Dehradun</td>\n",
       "      <td>Y</td>\n",
       "    </tr>\n",
       "    <tr>\n",
       "      <th>4</th>\n",
       "      <td>2007</td>\n",
       "      <td>130000</td>\n",
       "      <td>120000.0</td>\n",
       "      <td>Petrol</td>\n",
       "      <td>Individual</td>\n",
       "      <td>Manual</td>\n",
       "      <td>First Owner</td>\n",
       "      <td>16.10</td>\n",
       "      <td>1298</td>\n",
       "      <td>88.20</td>\n",
       "      <td>5</td>\n",
       "      <td>Chennai</td>\n",
       "      <td>Y</td>\n",
       "    </tr>\n",
       "    <tr>\n",
       "      <th>...</th>\n",
       "      <td>...</td>\n",
       "      <td>...</td>\n",
       "      <td>...</td>\n",
       "      <td>...</td>\n",
       "      <td>...</td>\n",
       "      <td>...</td>\n",
       "      <td>...</td>\n",
       "      <td>...</td>\n",
       "      <td>...</td>\n",
       "      <td>...</td>\n",
       "      <td>...</td>\n",
       "      <td>...</td>\n",
       "      <td>...</td>\n",
       "    </tr>\n",
       "    <tr>\n",
       "      <th>7901</th>\n",
       "      <td>2013</td>\n",
       "      <td>320000</td>\n",
       "      <td>110000.0</td>\n",
       "      <td>Petrol</td>\n",
       "      <td>Individual</td>\n",
       "      <td>Manual</td>\n",
       "      <td>First Owner</td>\n",
       "      <td>18.50</td>\n",
       "      <td>1197</td>\n",
       "      <td>82.85</td>\n",
       "      <td>5</td>\n",
       "      <td>Indore</td>\n",
       "      <td>N</td>\n",
       "    </tr>\n",
       "    <tr>\n",
       "      <th>7902</th>\n",
       "      <td>2007</td>\n",
       "      <td>135000</td>\n",
       "      <td>119000.0</td>\n",
       "      <td>Diesel</td>\n",
       "      <td>Individual</td>\n",
       "      <td>Manual</td>\n",
       "      <td>Third Owner</td>\n",
       "      <td>16.80</td>\n",
       "      <td>1493</td>\n",
       "      <td>110.00</td>\n",
       "      <td>5</td>\n",
       "      <td>Dehradun</td>\n",
       "      <td>N</td>\n",
       "    </tr>\n",
       "    <tr>\n",
       "      <th>7903</th>\n",
       "      <td>2009</td>\n",
       "      <td>382000</td>\n",
       "      <td>120000.0</td>\n",
       "      <td>Diesel</td>\n",
       "      <td>Individual</td>\n",
       "      <td>Manual</td>\n",
       "      <td>First Owner</td>\n",
       "      <td>19.30</td>\n",
       "      <td>1248</td>\n",
       "      <td>73.90</td>\n",
       "      <td>5</td>\n",
       "      <td>Kolkata</td>\n",
       "      <td>N</td>\n",
       "    </tr>\n",
       "    <tr>\n",
       "      <th>7904</th>\n",
       "      <td>2013</td>\n",
       "      <td>290000</td>\n",
       "      <td>25000.0</td>\n",
       "      <td>Diesel</td>\n",
       "      <td>Individual</td>\n",
       "      <td>Manual</td>\n",
       "      <td>First Owner</td>\n",
       "      <td>23.57</td>\n",
       "      <td>1396</td>\n",
       "      <td>70.00</td>\n",
       "      <td>5</td>\n",
       "      <td>Vellore</td>\n",
       "      <td>N</td>\n",
       "    </tr>\n",
       "    <tr>\n",
       "      <th>7905</th>\n",
       "      <td>2013</td>\n",
       "      <td>290000</td>\n",
       "      <td>25000.0</td>\n",
       "      <td>Diesel</td>\n",
       "      <td>Individual</td>\n",
       "      <td>Manual</td>\n",
       "      <td>First Owner</td>\n",
       "      <td>23.57</td>\n",
       "      <td>1396</td>\n",
       "      <td>70.00</td>\n",
       "      <td>5</td>\n",
       "      <td>Dehradun</td>\n",
       "      <td>N</td>\n",
       "    </tr>\n",
       "  </tbody>\n",
       "</table>\n",
       "<p>7906 rows × 13 columns</p>\n",
       "</div>"
      ],
      "text/plain": [
       "      year  selling_price  km_driven    fuel seller_type transmission  \\\n",
       "0     2014         450000   145500.0  Diesel  Individual       Manual   \n",
       "1     2014         370000   120000.0  Diesel  Individual       Manual   \n",
       "2     2006         158000   140000.0  Petrol  Individual       Manual   \n",
       "3     2010         225000   127000.0  Diesel  Individual       Manual   \n",
       "4     2007         130000   120000.0  Petrol  Individual       Manual   \n",
       "...    ...            ...        ...     ...         ...          ...   \n",
       "7901  2013         320000   110000.0  Petrol  Individual       Manual   \n",
       "7902  2007         135000   119000.0  Diesel  Individual       Manual   \n",
       "7903  2009         382000   120000.0  Diesel  Individual       Manual   \n",
       "7904  2013         290000    25000.0  Diesel  Individual       Manual   \n",
       "7905  2013         290000    25000.0  Diesel  Individual       Manual   \n",
       "\n",
       "             owner  mileage  engine  max_power  seats      City Sales_status  \n",
       "0      First Owner    23.40    1248      74.00      5    Mumbai            Y  \n",
       "1     Second Owner    21.14    1498     103.52      5    Ranchi            Y  \n",
       "2      Third Owner    17.70    1497      78.00      5     Noida            Y  \n",
       "3      First Owner    23.00    1396      90.00      5  Dehradun            Y  \n",
       "4      First Owner    16.10    1298      88.20      5   Chennai            Y  \n",
       "...            ...      ...     ...        ...    ...       ...          ...  \n",
       "7901   First Owner    18.50    1197      82.85      5    Indore            N  \n",
       "7902   Third Owner    16.80    1493     110.00      5  Dehradun            N  \n",
       "7903   First Owner    19.30    1248      73.90      5   Kolkata            N  \n",
       "7904   First Owner    23.57    1396      70.00      5   Vellore            N  \n",
       "7905   First Owner    23.57    1396      70.00      5  Dehradun            N  \n",
       "\n",
       "[7906 rows x 13 columns]"
      ]
     },
     "execution_count": 17,
     "metadata": {},
     "output_type": "execute_result"
    }
   ],
   "source": [
    "def drop_var1(data):\n",
    "    # Code starts here\n",
    "    data = data.drop(columns=[\"name\", \"Postal_code\", \"Sales_ID\"], errors='ignore')\n",
    "    # Code ends here\n",
    "    return data\n",
    "\n",
    "car_sales = drop_var1(car_sales)\n",
    "car_sales\n"
   ]
  },
  {
   "cell_type": "markdown",
   "metadata": {
    "id": "SXk0RSdRJ85P"
   },
   "source": [
    "#### T1.9: Handling categorical features: Apply encoding technique to convert categorical variable into numerical. Use try and except blocks.  (weightage - 4 marks)    (AE)"
   ]
  },
  {
   "cell_type": "markdown",
   "metadata": {
    "id": "bi5SxADaJ85P"
   },
   "source": [
    "#### NOTE:\n",
    "scikit-learn expects all features to be numeric. So how do we include a categorical feature in our model?\n",
    "Transform city variable to 4 categories such as `North_city, South_city, East_city and West_city` according to the below given list."
   ]
  },
  {
   "cell_type": "code",
   "execution_count": 18,
   "metadata": {
    "colab": {
     "base_uri": "https://localhost:8080/",
     "height": 206
    },
    "id": "b-SYPM3YO7cg",
    "outputId": "5aff8fa4-f282-4c57-e905-93ba8e4cc057"
   },
   "outputs": [
    {
     "data": {
      "text/html": [
       "<div>\n",
       "<style scoped>\n",
       "    .dataframe tbody tr th:only-of-type {\n",
       "        vertical-align: middle;\n",
       "    }\n",
       "\n",
       "    .dataframe tbody tr th {\n",
       "        vertical-align: top;\n",
       "    }\n",
       "\n",
       "    .dataframe thead th {\n",
       "        text-align: right;\n",
       "    }\n",
       "</style>\n",
       "<table border=\"1\" class=\"dataframe\">\n",
       "  <thead>\n",
       "    <tr style=\"text-align: right;\">\n",
       "      <th></th>\n",
       "      <th>City</th>\n",
       "      <th>city_region</th>\n",
       "    </tr>\n",
       "  </thead>\n",
       "  <tbody>\n",
       "    <tr>\n",
       "      <th>0</th>\n",
       "      <td>Mumbai</td>\n",
       "      <td>North_city</td>\n",
       "    </tr>\n",
       "    <tr>\n",
       "      <th>1</th>\n",
       "      <td>Ranchi</td>\n",
       "      <td>East_city</td>\n",
       "    </tr>\n",
       "    <tr>\n",
       "      <th>2</th>\n",
       "      <td>Noida</td>\n",
       "      <td>North_city</td>\n",
       "    </tr>\n",
       "    <tr>\n",
       "      <th>3</th>\n",
       "      <td>Dehradun</td>\n",
       "      <td>North_city</td>\n",
       "    </tr>\n",
       "    <tr>\n",
       "      <th>4</th>\n",
       "      <td>Chennai</td>\n",
       "      <td>South_city</td>\n",
       "    </tr>\n",
       "  </tbody>\n",
       "</table>\n",
       "</div>"
      ],
      "text/plain": [
       "       City city_region\n",
       "0    Mumbai  North_city\n",
       "1    Ranchi   East_city\n",
       "2     Noida  North_city\n",
       "3  Dehradun  North_city\n",
       "4   Chennai  South_city"
      ]
     },
     "execution_count": 18,
     "metadata": {},
     "output_type": "execute_result"
    }
   ],
   "source": [
    "def city_region(sales_data):\n",
    "    north_cities = ['Dehradun','Mumbai','Jaipur','Indore','Pune','Aurangabad', 'Delhi','Ludhiana', 'kanpur', 'Gangtok', 'Noida']\n",
    "    south_cities = ['Chennai','Mysore', 'Bangalore', 'Nellore', 'Coimbatore','Mangalore','Hyderabad','Vellore','Thrissur']\n",
    "    east_cities = ['Ranchi', 'Kolkata', 'Jamshedpur', 'Patna', 'Bhubaneshwar']\n",
    "    west_cities = ['Ahmedabad','Kochi','Vadodara', 'Surat']\n",
    "\n",
    "    def map_region(city):\n",
    "        try:\n",
    "            if city in north_cities:\n",
    "                return 'North_city'\n",
    "            elif city in south_cities:\n",
    "                return 'South_city'\n",
    "            elif city in east_cities:\n",
    "                return 'East_city'\n",
    "            elif city in west_cities:\n",
    "                return 'West_city'\n",
    "            else:\n",
    "                return 'Other'  # If city not in any list\n",
    "        except Exception as e:\n",
    "            print(f\"Error mapping city {city}: {e}\")\n",
    "            return 'Unknown'\n",
    "\n",
    "    # Apply mapping to the 'city' column\n",
    "    sales_data['city_region'] = sales_data['City'].apply(map_region)\n",
    "\n",
    "    # Optionally drop the original 'city' column if you want\n",
    "    # sales_data = sales_data.drop(columns=['city'])\n",
    "\n",
    "    return sales_data\n",
    "\n",
    "# Apply city_region() to car_sales\n",
    "car_sales = city_region(car_sales)\n",
    "car_sales[['City', 'city_region']].head()\n"
   ]
  },
  {
   "cell_type": "markdown",
   "metadata": {
    "id": "X5T4NYL1J85P"
   },
   "source": [
    "- drop the City variable"
   ]
  },
  {
   "cell_type": "code",
   "execution_count": 19,
   "metadata": {
    "colab": {
     "base_uri": "https://localhost:8080/",
     "height": 206
    },
    "id": "yAXzmR3BJ85Q",
    "outputId": "a07d387f-7e7c-493f-93ad-ba53ab90ee78"
   },
   "outputs": [
    {
     "data": {
      "text/html": [
       "<div>\n",
       "<style scoped>\n",
       "    .dataframe tbody tr th:only-of-type {\n",
       "        vertical-align: middle;\n",
       "    }\n",
       "\n",
       "    .dataframe tbody tr th {\n",
       "        vertical-align: top;\n",
       "    }\n",
       "\n",
       "    .dataframe thead th {\n",
       "        text-align: right;\n",
       "    }\n",
       "</style>\n",
       "<table border=\"1\" class=\"dataframe\">\n",
       "  <thead>\n",
       "    <tr style=\"text-align: right;\">\n",
       "      <th></th>\n",
       "      <th>year</th>\n",
       "      <th>selling_price</th>\n",
       "      <th>km_driven</th>\n",
       "      <th>fuel</th>\n",
       "      <th>seller_type</th>\n",
       "      <th>transmission</th>\n",
       "      <th>owner</th>\n",
       "      <th>mileage</th>\n",
       "      <th>engine</th>\n",
       "      <th>max_power</th>\n",
       "      <th>seats</th>\n",
       "      <th>Sales_status</th>\n",
       "      <th>city_region</th>\n",
       "    </tr>\n",
       "  </thead>\n",
       "  <tbody>\n",
       "    <tr>\n",
       "      <th>0</th>\n",
       "      <td>2014</td>\n",
       "      <td>450000</td>\n",
       "      <td>145500.0</td>\n",
       "      <td>Diesel</td>\n",
       "      <td>Individual</td>\n",
       "      <td>Manual</td>\n",
       "      <td>First Owner</td>\n",
       "      <td>23.40</td>\n",
       "      <td>1248</td>\n",
       "      <td>74.00</td>\n",
       "      <td>5</td>\n",
       "      <td>Y</td>\n",
       "      <td>North_city</td>\n",
       "    </tr>\n",
       "    <tr>\n",
       "      <th>1</th>\n",
       "      <td>2014</td>\n",
       "      <td>370000</td>\n",
       "      <td>120000.0</td>\n",
       "      <td>Diesel</td>\n",
       "      <td>Individual</td>\n",
       "      <td>Manual</td>\n",
       "      <td>Second Owner</td>\n",
       "      <td>21.14</td>\n",
       "      <td>1498</td>\n",
       "      <td>103.52</td>\n",
       "      <td>5</td>\n",
       "      <td>Y</td>\n",
       "      <td>East_city</td>\n",
       "    </tr>\n",
       "    <tr>\n",
       "      <th>2</th>\n",
       "      <td>2006</td>\n",
       "      <td>158000</td>\n",
       "      <td>140000.0</td>\n",
       "      <td>Petrol</td>\n",
       "      <td>Individual</td>\n",
       "      <td>Manual</td>\n",
       "      <td>Third Owner</td>\n",
       "      <td>17.70</td>\n",
       "      <td>1497</td>\n",
       "      <td>78.00</td>\n",
       "      <td>5</td>\n",
       "      <td>Y</td>\n",
       "      <td>North_city</td>\n",
       "    </tr>\n",
       "    <tr>\n",
       "      <th>3</th>\n",
       "      <td>2010</td>\n",
       "      <td>225000</td>\n",
       "      <td>127000.0</td>\n",
       "      <td>Diesel</td>\n",
       "      <td>Individual</td>\n",
       "      <td>Manual</td>\n",
       "      <td>First Owner</td>\n",
       "      <td>23.00</td>\n",
       "      <td>1396</td>\n",
       "      <td>90.00</td>\n",
       "      <td>5</td>\n",
       "      <td>Y</td>\n",
       "      <td>North_city</td>\n",
       "    </tr>\n",
       "    <tr>\n",
       "      <th>4</th>\n",
       "      <td>2007</td>\n",
       "      <td>130000</td>\n",
       "      <td>120000.0</td>\n",
       "      <td>Petrol</td>\n",
       "      <td>Individual</td>\n",
       "      <td>Manual</td>\n",
       "      <td>First Owner</td>\n",
       "      <td>16.10</td>\n",
       "      <td>1298</td>\n",
       "      <td>88.20</td>\n",
       "      <td>5</td>\n",
       "      <td>Y</td>\n",
       "      <td>South_city</td>\n",
       "    </tr>\n",
       "  </tbody>\n",
       "</table>\n",
       "</div>"
      ],
      "text/plain": [
       "   year  selling_price  km_driven    fuel seller_type transmission  \\\n",
       "0  2014         450000   145500.0  Diesel  Individual       Manual   \n",
       "1  2014         370000   120000.0  Diesel  Individual       Manual   \n",
       "2  2006         158000   140000.0  Petrol  Individual       Manual   \n",
       "3  2010         225000   127000.0  Diesel  Individual       Manual   \n",
       "4  2007         130000   120000.0  Petrol  Individual       Manual   \n",
       "\n",
       "          owner  mileage  engine  max_power  seats Sales_status city_region  \n",
       "0   First Owner    23.40    1248      74.00      5            Y  North_city  \n",
       "1  Second Owner    21.14    1498     103.52      5            Y   East_city  \n",
       "2   Third Owner    17.70    1497      78.00      5            Y  North_city  \n",
       "3   First Owner    23.00    1396      90.00      5            Y  North_city  \n",
       "4   First Owner    16.10    1298      88.20      5            Y  South_city  "
      ]
     },
     "execution_count": 19,
     "metadata": {},
     "output_type": "execute_result"
    }
   ],
   "source": [
    "def drop_var2(data):\n",
    "    # code starts here\n",
    "    data = data.drop(columns=['City'])\n",
    "    # code ends here\n",
    "    return data\n",
    "\n",
    "car_sales = drop_var2(car_sales)\n",
    "car_sales.head()\n"
   ]
  },
  {
   "cell_type": "markdown",
   "metadata": {
    "id": "g02L_zelJ85Q"
   },
   "source": [
    "#### Encoding technique: convert other categorical variable into factor variable"
   ]
  },
  {
   "cell_type": "code",
   "execution_count": 20,
   "metadata": {
    "colab": {
     "base_uri": "https://localhost:8080/",
     "height": 226
    },
    "id": "l04XWyMkQB-Q",
    "outputId": "e8bd0a62-9fab-4f35-acb5-92220dd804e8"
   },
   "outputs": [
    {
     "data": {
      "text/html": [
       "<div>\n",
       "<style scoped>\n",
       "    .dataframe tbody tr th:only-of-type {\n",
       "        vertical-align: middle;\n",
       "    }\n",
       "\n",
       "    .dataframe tbody tr th {\n",
       "        vertical-align: top;\n",
       "    }\n",
       "\n",
       "    .dataframe thead th {\n",
       "        text-align: right;\n",
       "    }\n",
       "</style>\n",
       "<table border=\"1\" class=\"dataframe\">\n",
       "  <thead>\n",
       "    <tr style=\"text-align: right;\">\n",
       "      <th></th>\n",
       "      <th>year</th>\n",
       "      <th>selling_price</th>\n",
       "      <th>km_driven</th>\n",
       "      <th>fuel</th>\n",
       "      <th>seller_type</th>\n",
       "      <th>transmission</th>\n",
       "      <th>owner</th>\n",
       "      <th>mileage</th>\n",
       "      <th>engine</th>\n",
       "      <th>max_power</th>\n",
       "      <th>seats</th>\n",
       "      <th>Sales_status</th>\n",
       "      <th>city_East_city</th>\n",
       "      <th>city_North_city</th>\n",
       "      <th>city_South_city</th>\n",
       "      <th>city_West_city</th>\n",
       "    </tr>\n",
       "  </thead>\n",
       "  <tbody>\n",
       "    <tr>\n",
       "      <th>0</th>\n",
       "      <td>2014</td>\n",
       "      <td>450000</td>\n",
       "      <td>145500.0</td>\n",
       "      <td>1</td>\n",
       "      <td>1</td>\n",
       "      <td>1</td>\n",
       "      <td>0</td>\n",
       "      <td>23.40</td>\n",
       "      <td>1248</td>\n",
       "      <td>74.00</td>\n",
       "      <td>5</td>\n",
       "      <td>1</td>\n",
       "      <td>False</td>\n",
       "      <td>True</td>\n",
       "      <td>False</td>\n",
       "      <td>False</td>\n",
       "    </tr>\n",
       "    <tr>\n",
       "      <th>1</th>\n",
       "      <td>2014</td>\n",
       "      <td>370000</td>\n",
       "      <td>120000.0</td>\n",
       "      <td>1</td>\n",
       "      <td>1</td>\n",
       "      <td>1</td>\n",
       "      <td>1</td>\n",
       "      <td>21.14</td>\n",
       "      <td>1498</td>\n",
       "      <td>103.52</td>\n",
       "      <td>5</td>\n",
       "      <td>1</td>\n",
       "      <td>True</td>\n",
       "      <td>False</td>\n",
       "      <td>False</td>\n",
       "      <td>False</td>\n",
       "    </tr>\n",
       "    <tr>\n",
       "      <th>2</th>\n",
       "      <td>2006</td>\n",
       "      <td>158000</td>\n",
       "      <td>140000.0</td>\n",
       "      <td>2</td>\n",
       "      <td>1</td>\n",
       "      <td>1</td>\n",
       "      <td>2</td>\n",
       "      <td>17.70</td>\n",
       "      <td>1497</td>\n",
       "      <td>78.00</td>\n",
       "      <td>5</td>\n",
       "      <td>1</td>\n",
       "      <td>False</td>\n",
       "      <td>True</td>\n",
       "      <td>False</td>\n",
       "      <td>False</td>\n",
       "    </tr>\n",
       "    <tr>\n",
       "      <th>3</th>\n",
       "      <td>2010</td>\n",
       "      <td>225000</td>\n",
       "      <td>127000.0</td>\n",
       "      <td>1</td>\n",
       "      <td>1</td>\n",
       "      <td>1</td>\n",
       "      <td>0</td>\n",
       "      <td>23.00</td>\n",
       "      <td>1396</td>\n",
       "      <td>90.00</td>\n",
       "      <td>5</td>\n",
       "      <td>1</td>\n",
       "      <td>False</td>\n",
       "      <td>True</td>\n",
       "      <td>False</td>\n",
       "      <td>False</td>\n",
       "    </tr>\n",
       "    <tr>\n",
       "      <th>4</th>\n",
       "      <td>2007</td>\n",
       "      <td>130000</td>\n",
       "      <td>120000.0</td>\n",
       "      <td>2</td>\n",
       "      <td>1</td>\n",
       "      <td>1</td>\n",
       "      <td>0</td>\n",
       "      <td>16.10</td>\n",
       "      <td>1298</td>\n",
       "      <td>88.20</td>\n",
       "      <td>5</td>\n",
       "      <td>1</td>\n",
       "      <td>False</td>\n",
       "      <td>False</td>\n",
       "      <td>True</td>\n",
       "      <td>False</td>\n",
       "    </tr>\n",
       "  </tbody>\n",
       "</table>\n",
       "</div>"
      ],
      "text/plain": [
       "   year  selling_price  km_driven  fuel  seller_type  transmission  owner  \\\n",
       "0  2014         450000   145500.0     1            1             1      0   \n",
       "1  2014         370000   120000.0     1            1             1      1   \n",
       "2  2006         158000   140000.0     2            1             1      2   \n",
       "3  2010         225000   127000.0     1            1             1      0   \n",
       "4  2007         130000   120000.0     2            1             1      0   \n",
       "\n",
       "   mileage  engine  max_power  seats  Sales_status  city_East_city  \\\n",
       "0    23.40    1248      74.00      5             1           False   \n",
       "1    21.14    1498     103.52      5             1            True   \n",
       "2    17.70    1497      78.00      5             1           False   \n",
       "3    23.00    1396      90.00      5             1           False   \n",
       "4    16.10    1298      88.20      5             1           False   \n",
       "\n",
       "   city_North_city  city_South_city  city_West_city  \n",
       "0             True            False           False  \n",
       "1            False            False           False  \n",
       "2             True            False           False  \n",
       "3             True            False           False  \n",
       "4            False             True           False  "
      ]
     },
     "execution_count": 20,
     "metadata": {},
     "output_type": "execute_result"
    }
   ],
   "source": [
    "from sklearn.preprocessing import LabelEncoder\n",
    "\n",
    "def encode_categorical_columns(df):\n",
    "    try:\n",
    "        # Initialize LabelEncoder\n",
    "        le = LabelEncoder()\n",
    "\n",
    "        # Label encode selected columns\n",
    "        label_encode_columns = ['fuel', 'seller_type', 'transmission', 'owner', 'Sales_status']\n",
    "        for col in label_encode_columns:\n",
    "            if col in df.columns:\n",
    "                df[col] = le.fit_transform(df[col].astype(str))\n",
    "\n",
    "        # One-hot encode 'city_region' column if it exists\n",
    "        if 'city_region' in df.columns:\n",
    "            city_dummies = pd.get_dummies(df['city_region'], prefix='city')\n",
    "            df = pd.concat([df, city_dummies], axis=1)\n",
    "            df.drop('city_region', axis=1, inplace=True)\n",
    "\n",
    "    except Exception as e:\n",
    "        return f\"An error occurred during encoding: {e}\"\n",
    "\n",
    "    return df\n",
    "\n",
    "# apply it in the original data\n",
    "car_sales = encode_categorical_columns(car_sales)\n",
    "car_sales.head()\n"
   ]
  },
  {
   "cell_type": "markdown",
   "metadata": {
    "id": "7mngUgcQJ85Q"
   },
   "source": [
    "#### NOTE:\n",
    "Save the DataFrame car_sales to an Excel file named __\"cleaned_car_sales.xlsx\"__ in the `Project1` folder without including the index column."
   ]
  },
  {
   "cell_type": "code",
   "execution_count": 21,
   "metadata": {
    "colab": {
     "base_uri": "https://localhost:8080/"
    },
    "id": "kUJNdt1wQZKK",
    "outputId": "decb0079-4ee9-49bd-a516-3db3e23bbe2b"
   },
   "outputs": [
    {
     "name": "stdout",
     "output_type": "stream",
     "text": [
      "Write operation successfully completed.\n"
     ]
    }
   ],
   "source": [
    "def save_file(data):\n",
    "    try:\n",
    "        # Save DataFrame to Excel without the index\n",
    "        #data.to_excel('Project1/cleaned_car_sales.xlsx', index=False)\n",
    "        data.to_excel('cleaned_car_sales.xlsx', index=False)\n",
    "        print(\"Write operation successfully completed.\")\n",
    "    except Exception as e:\n",
    "        print(\"Write operation not completed.\")\n",
    "        print(f\"Error: {e}\")\n",
    "\n",
    "save_file(car_sales)\n"
   ]
  },
  {
   "cell_type": "markdown",
   "metadata": {
    "id": "BusPYJeDJ85Q"
   },
   "source": [
    "### Task 2: Build Multiple Linear regression model for predicting the price of a used car. (weightage - 30 marks)               "
   ]
  },
  {
   "cell_type": "markdown",
   "metadata": {
    "id": "oU4tBukDJ85Q"
   },
   "source": [
    "#### T2.1: Load the cleaned dataset and divide it into predictor and target values (X & y) (weightage – 2 marks) (AE)"
   ]
  },
  {
   "cell_type": "code",
   "execution_count": 22,
   "metadata": {
    "colab": {
     "base_uri": "https://localhost:8080/"
    },
    "id": "hjmeO2IQQ6f_",
    "outputId": "e8b0e7c5-7395-4144-9eac-0318bd8ff2ed"
   },
   "outputs": [
    {
     "name": "stdout",
     "output_type": "stream",
     "text": [
      "cleaned_car_sales.xlsx load complete\n"
     ]
    }
   ],
   "source": [
    "import pandas as pd\n",
    "\n",
    "def load_the_cleaned_dataset(dataset_location):\n",
    "    cleaned_car_sales = None\n",
    "    try:\n",
    "        # Code starts here\n",
    "        cleaned_car_sales = pd.read_excel(dataset_location)\n",
    "        # Code ends here\n",
    "    except Exception as e:\n",
    "        print(f\"Error loading dataset: {e}\")\n",
    "    return cleaned_car_sales\n",
    "\n",
    "dataset_location = 'cleaned_car_sales.xlsx'\n",
    "cleaned_car_sales = load_the_cleaned_dataset(dataset_location)\n",
    "print(\"cleaned_car_sales.xlsx load complete\")\n"
   ]
  },
  {
   "cell_type": "markdown",
   "metadata": {
    "id": "HuVfUePuJ85Q"
   },
   "source": [
    "- Separate independent features and target variable"
   ]
  },
  {
   "cell_type": "code",
   "execution_count": 23,
   "metadata": {
    "colab": {
     "base_uri": "https://localhost:8080/"
    },
    "id": "cfhSZ4mXRp1K",
    "outputId": "3fd28428-2e54-45b0-a511-833e86b95192"
   },
   "outputs": [
    {
     "name": "stdout",
     "output_type": "stream",
     "text": [
      "[[2014 145500 1 ... True False False]\n",
      " [2014 120000 1 ... False False False]\n",
      " [2006 140000 2 ... True False False]\n",
      " ...\n",
      " [2009 120000 1 ... False False False]\n",
      " [2013 25000 1 ... False True False]\n",
      " [2013 25000 1 ... True False False]]\n",
      "[450000 370000 158000 ... 382000 290000 290000]\n"
     ]
    }
   ],
   "source": [
    "import numpy as np\n",
    "\n",
    "def separate_data_and_target(df):\n",
    "    # code starts here\n",
    "    X = df.drop('selling_price', axis=1).values  # Independent features as numpy array\n",
    "    y = df['selling_price'].values  # Target variable as numpy array\n",
    "    # code ends here\n",
    "    return X, y\n",
    "\n",
    "# dependent : X, independent : y\n",
    "X, y = separate_data_and_target(cleaned_car_sales)\n",
    "print(X)\n",
    "print(y)\n"
   ]
  },
  {
   "cell_type": "markdown",
   "metadata": {
    "id": "fYk0hXGnJ85R"
   },
   "source": [
    "#### T2.2: Split the dataset into train and test in the ratio of 80:20 and apply the scaling technique -RobustScaler. (weightage – 4 marks) (AE)"
   ]
  },
  {
   "cell_type": "markdown",
   "metadata": {
    "id": "OPafgQvvJ85R"
   },
   "source": [
    "#### NOTE:\n",
    "\n",
    "Split the dataset into training and testing. Separate the dependent (data) and independent (target) columns/fields of the dataset and apply the scaling technique -RobustScaler.The requirement is to build a model that performs regression task."
   ]
  },
  {
   "cell_type": "code",
   "execution_count": 24,
   "metadata": {
    "colab": {
     "base_uri": "https://localhost:8080/"
    },
    "id": "j5djrSXbR_4O",
    "outputId": "d573af47-3c03-461f-b8fe-4b3b6d63bca4"
   },
   "outputs": [
    {
     "name": "stdout",
     "output_type": "stream",
     "text": [
      "--------X_train-----------\n",
      "[[ 0.4         0.          1.         ...  1.          0.\n",
      "   0.        ]\n",
      " [ 0.4        -0.53680707  0.         ...  0.          1.\n",
      "   0.        ]\n",
      " [ 0.8        -0.76942347  0.         ...  0.          0.\n",
      "   1.        ]\n",
      " ...\n",
      " [ 0.         -0.44733923  1.         ...  0.          0.\n",
      "   1.        ]\n",
      " [-0.4         2.0219733   0.         ...  1.          0.\n",
      "   0.        ]\n",
      " [-1.6         0.71574276  0.         ...  0.          1.\n",
      "   0.        ]]\n",
      "--------X_test-----------\n",
      "[[ 0.4        -0.39365852  1.         ...  0.          0.\n",
      "   1.        ]\n",
      " [ 0.8        -0.94778657  1.         ...  0.          0.\n",
      "   1.        ]\n",
      " [-1.          0.89467845  0.         ...  0.          0.\n",
      "   1.        ]\n",
      " ...\n",
      " [-2.2         1.07361414  1.         ...  1.          0.\n",
      "   0.        ]\n",
      " [ 0.6         1.07361414  1.         ...  1.          0.\n",
      "   0.        ]\n",
      " [ 0.2         1.07361414  0.         ...  0.          0.\n",
      "   1.        ]]\n",
      "--------y_train-----------\n",
      "[ 350000 1200000 1000000 ...  500000  479000  130000]\n",
      "--------y_test-----------\n",
      "[430000 779000 200000 ... 120000 340000 620000]\n"
     ]
    }
   ],
   "source": [
    "from sklearn.model_selection import train_test_split\n",
    "from sklearn.preprocessing import RobustScaler\n",
    "import numpy as np\n",
    "\n",
    "def split_into_train_and_test_normalize_features(X, y):\n",
    "    # Split dataset into 80% train and 20% test, random_state=0 for reproducibility\n",
    "    X_train, X_test, y_train, y_test = train_test_split(X, y, test_size=0.2, random_state=0)\n",
    "\n",
    "    # Instantiate RobustScaler\n",
    "    scaler = RobustScaler()\n",
    "\n",
    "    # Fit scaler on training data and transform\n",
    "    X_train = scaler.fit_transform(X_train)\n",
    "\n",
    "    # Transform test data using the same scaler\n",
    "    X_test = scaler.transform(X_test)\n",
    "\n",
    "    return X_train, X_test, y_train, y_test\n",
    "\n",
    "X_train, X_test, y_train, y_test = split_into_train_and_test_normalize_features(X, y)\n",
    "print(\"--------X_train-----------\")\n",
    "print(X_train)\n",
    "print(\"--------X_test-----------\")\n",
    "print(X_test)\n",
    "print(\"--------y_train-----------\")\n",
    "print(y_train)\n",
    "print(\"--------y_test-----------\")\n",
    "print(y_test)\n"
   ]
  },
  {
   "cell_type": "markdown",
   "metadata": {
    "id": "wjVZ0cq6J85S"
   },
   "source": [
    "##### T2.3 Check the multicollinearity using VIF for all the variables in the model (weightage-4 marks)  (AE)"
   ]
  },
  {
   "cell_type": "markdown",
   "metadata": {
    "id": "pMMRHiOeJ85S"
   },
   "source": [
    "#### NOTE:\n",
    "* Splits the data into training and testing sets using the train_test_split function from scikit-learn.\n",
    "* Define the dependent variable (y1) and independent variables (X1) using the `dmatrices` function from the `patsy` module.\n",
    "* For each independent variable in X1, it calculates the VIF using the variance_inflation_factor function from the statsmodels.stats.outliers_influence module. VIF measures how much the variance of an estimated regression coefficient increases if your predictors are correlated.\n",
    "* Store the calculated VIF values along with the corresponding feature names in a DataFrame `vif` to display the VIF values for each feature."
   ]
  },
  {
   "cell_type": "code",
   "execution_count": 25,
   "metadata": {
    "colab": {
     "base_uri": "https://localhost:8080/"
    },
    "id": "5H21gkeHSVKC",
    "outputId": "9301151a-de39-4dd1-a80d-e725281f4605"
   },
   "outputs": [
    {
     "name": "stdout",
     "output_type": "stream",
     "text": [
      "         feature       VIF\n",
      "0      Intercept  576102.2\n",
      "1           year       2.1\n",
      "2      km_driven       1.7\n",
      "3      max_power       3.1\n",
      "4         engine       5.1\n",
      "5          seats       2.2\n",
      "6           fuel       1.9\n",
      "7    seller_type       1.2\n",
      "8   Sales_status       1.0\n",
      "9        mileage       2.7\n",
      "10  transmission       1.7\n",
      "11         owner       1.4\n"
     ]
    }
   ],
   "source": [
    "from statsmodels.stats.outliers_influence import variance_inflation_factor\n",
    "from patsy import dmatrices\n",
    "from sklearn.model_selection import train_test_split\n",
    "import pandas as pd\n",
    "\n",
    "def multicollinearity(data):\n",
    "    # Split data into train and test\n",
    "    train, test = train_test_split(data, test_size=0.2, random_state=1234)\n",
    "\n",
    "    # Define dependent and independent variables using patsy dmatrices\n",
    "    y1, X1 = dmatrices('selling_price ~ year + km_driven + max_power + engine + seats + fuel + seller_type + Sales_status + mileage + transmission + owner',\n",
    "                       train, return_type='dataframe')\n",
    "\n",
    "    # Calculate VIF for each feature\n",
    "    vif_data = []\n",
    "    for i in range(X1.shape[1]):\n",
    "        vif = variance_inflation_factor(X1.values, i)\n",
    "        vif_data.append({'feature': X1.columns[i], 'VIF': vif})\n",
    "\n",
    "    # Create a DataFrame for easy viewing\n",
    "    vif = pd.DataFrame(vif_data)\n",
    "\n",
    "    # Print the VIF rounded to 1 decimal place\n",
    "    print(vif.round(1))\n",
    "\n",
    "    return\n",
    "\n",
    "# Call the function with the cleaned_car_sales dataframe\n",
    "multicollinearity(cleaned_car_sales)\n"
   ]
  },
  {
   "cell_type": "markdown",
   "metadata": {
    "id": "suzVjGlUJ85S"
   },
   "source": [
    "#### T2.4: Build a multiple linear regression model on training data using OLS method and sklearn library . (weightage - 20 marks) (AE)"
   ]
  },
  {
   "cell_type": "markdown",
   "metadata": {
    "id": "Tz09UG4vJ85S"
   },
   "source": [
    "#### NOTE:\n",
    "* Split the dataset into train and test in the ratio of 80:20.\n",
    "* Set the random_state to 1234\n",
    "* Build the OLS model using statsmodels formula API\n",
    "* The function `fit_the_model_ols` should return the OLS Model and the test data."
   ]
  },
  {
   "cell_type": "markdown",
   "metadata": {
    "id": "CYCeIm4hJ85S"
   },
   "source": [
    "**Build a model using OLS**"
   ]
  },
  {
   "cell_type": "code",
   "execution_count": 26,
   "metadata": {
    "colab": {
     "base_uri": "https://localhost:8080/"
    },
    "id": "VN8kw3eISrB2",
    "outputId": "a168c643-287c-49fc-94a4-162fb12c4934"
   },
   "outputs": [
    {
     "name": "stdout",
     "output_type": "stream",
     "text": [
      "-----------test_data---------\n",
      "      year  selling_price  km_driven  fuel  seller_type  transmission  owner  \\\n",
      "2489  2017         651000      32500     1            1             1      1   \n",
      "2124  2012         200000      29500     2            1             1      0   \n",
      "834   2016         265000      50000     2            1             1      0   \n",
      "2533  2019        1575000      18000     1            1             1      0   \n",
      "5091  2006         135000     120000     1            1             1      1   \n",
      "\n",
      "      mileage  engine  max_power  seats  Sales_status  city_East_city  \\\n",
      "2489    28.40    1248      74.02      5             0           False   \n",
      "2124    20.92     998      67.10      5             0           False   \n",
      "834     25.17     799      53.30      5             1           False   \n",
      "2533    15.10    2179     152.87      7             0           False   \n",
      "5091    16.80    1493     110.00      5             0           False   \n",
      "\n",
      "      city_North_city  city_South_city  city_West_city  \n",
      "2489            False             True           False  \n",
      "2124            False             True           False  \n",
      "834             False             True           False  \n",
      "2533            False             True           False  \n",
      "5091             True            False           False  \n",
      "------Model Summary ---------\n",
      "                            OLS Regression Results                            \n",
      "==============================================================================\n",
      "Dep. Variable:          selling_price   R-squared:                       0.685\n",
      "Model:                            OLS   Adj. R-squared:                  0.684\n",
      "Method:                 Least Squares   F-statistic:                     1247.\n",
      "Date:                Thu, 15 May 2025   Prob (F-statistic):               0.00\n",
      "Time:                        16:32:53   Log-Likelihood:                -91390.\n",
      "No. Observations:                6324   AIC:                         1.828e+05\n",
      "Df Residuals:                    6312   BIC:                         1.829e+05\n",
      "Df Model:                          11                                         \n",
      "Covariance Type:            nonrobust                                         \n",
      "================================================================================\n",
      "                   coef    std err          t      P>|t|      [0.025      0.975]\n",
      "--------------------------------------------------------------------------------\n",
      "Intercept    -5.477e+07   4.37e+06    -12.546      0.000   -6.33e+07   -4.62e+07\n",
      "year          2.733e+04   2181.129     12.532      0.000    2.31e+04    3.16e+04\n",
      "km_driven       -2.8151      0.192    -14.700      0.000      -3.190      -2.440\n",
      "max_power     1.291e+04    284.110     45.432      0.000    1.24e+04    1.35e+04\n",
      "engine          48.5549     25.725      1.887      0.059      -1.875      98.985\n",
      "seats         -3.06e+04   8803.896     -3.476      0.001   -4.79e+04   -1.33e+04\n",
      "fuel         -1.168e+05   1.56e+04     -7.498      0.000   -1.47e+05   -8.63e+04\n",
      "seller_type  -2.237e+05    1.8e+04    -12.440      0.000   -2.59e+05   -1.88e+05\n",
      "Sales_status  2.102e+04   1.32e+04      1.593      0.111   -4850.661    4.69e+04\n",
      "mileage       1.048e+04   2335.474      4.485      0.000    5897.293    1.51e+04\n",
      "transmission -4.445e+05    2.2e+04    -20.186      0.000   -4.88e+05   -4.01e+05\n",
      "owner        -1753.4238   1.04e+04     -0.168      0.867   -2.22e+04    1.87e+04\n",
      "==============================================================================\n",
      "Omnibus:                     3345.364   Durbin-Watson:                   1.981\n",
      "Prob(Omnibus):                  0.000   Jarque-Bera (JB):            51881.497\n",
      "Skew:                           2.174   Prob(JB):                         0.00\n",
      "Kurtosis:                      16.341   Cond. No.                     5.73e+07\n",
      "==============================================================================\n",
      "\n",
      "Notes:\n",
      "[1] Standard Errors assume that the covariance matrix of the errors is correctly specified.\n",
      "[2] The condition number is large, 5.73e+07. This might indicate that there are\n",
      "strong multicollinearity or other numerical problems.\n"
     ]
    }
   ],
   "source": [
    "import numpy as np\n",
    "import pandas as pd\n",
    "from sklearn.model_selection import train_test_split\n",
    "import statsmodels.formula.api as smf\n",
    "\n",
    "def fit_the_model_ols(data):\n",
    "    ols_model = None\n",
    "    train, test = None, None\n",
    "\n",
    "    # Split the data into train and test (80:20) with random_state=1234\n",
    "    train, test = train_test_split(data, test_size=0.2, random_state=1234)\n",
    "\n",
    "    # Build OLS model using statsmodels formula API\n",
    "    formula = 'selling_price ~ year + km_driven + max_power + engine + seats + fuel + seller_type + Sales_status + mileage + transmission + owner'\n",
    "    ols_model = smf.ols(formula=formula, data=train).fit()\n",
    "\n",
    "    # Return model and test data\n",
    "    return ols_model, test\n",
    "\n",
    "# Fit the model on cleaned_car_sales\n",
    "ols_model, test_data = fit_the_model_ols(cleaned_car_sales)\n",
    "\n",
    "print(\"-----------test_data---------\")\n",
    "print(test_data.head())\n",
    "\n",
    "# Get and print model summary\n",
    "print(\"------Model Summary ---------\")\n",
    "print(ols_model.summary())\n"
   ]
  },
  {
   "cell_type": "markdown",
   "metadata": {
    "id": "jRrcEiTOJ85T"
   },
   "source": [
    "**Build a linear model using sklearn library**"
   ]
  },
  {
   "cell_type": "markdown",
   "metadata": {
    "id": "CLoT4r5CJ85T"
   },
   "source": [
    "#### NOTE:\n",
    "* Initializes a linear regression model object.\n",
    "* Fit the model to the training data (X_train and y_train) using the fit() method of the linear regression object."
   ]
  },
  {
   "cell_type": "code",
   "execution_count": 27,
   "metadata": {
    "id": "Q2147CmDJ85T"
   },
   "outputs": [
    {
     "data": {
      "text/html": [
       "<style>#sk-container-id-1 {\n",
       "  /* Definition of color scheme common for light and dark mode */\n",
       "  --sklearn-color-text: #000;\n",
       "  --sklearn-color-text-muted: #666;\n",
       "  --sklearn-color-line: gray;\n",
       "  /* Definition of color scheme for unfitted estimators */\n",
       "  --sklearn-color-unfitted-level-0: #fff5e6;\n",
       "  --sklearn-color-unfitted-level-1: #f6e4d2;\n",
       "  --sklearn-color-unfitted-level-2: #ffe0b3;\n",
       "  --sklearn-color-unfitted-level-3: chocolate;\n",
       "  /* Definition of color scheme for fitted estimators */\n",
       "  --sklearn-color-fitted-level-0: #f0f8ff;\n",
       "  --sklearn-color-fitted-level-1: #d4ebff;\n",
       "  --sklearn-color-fitted-level-2: #b3dbfd;\n",
       "  --sklearn-color-fitted-level-3: cornflowerblue;\n",
       "\n",
       "  /* Specific color for light theme */\n",
       "  --sklearn-color-text-on-default-background: var(--sg-text-color, var(--theme-code-foreground, var(--jp-content-font-color1, black)));\n",
       "  --sklearn-color-background: var(--sg-background-color, var(--theme-background, var(--jp-layout-color0, white)));\n",
       "  --sklearn-color-border-box: var(--sg-text-color, var(--theme-code-foreground, var(--jp-content-font-color1, black)));\n",
       "  --sklearn-color-icon: #696969;\n",
       "\n",
       "  @media (prefers-color-scheme: dark) {\n",
       "    /* Redefinition of color scheme for dark theme */\n",
       "    --sklearn-color-text-on-default-background: var(--sg-text-color, var(--theme-code-foreground, var(--jp-content-font-color1, white)));\n",
       "    --sklearn-color-background: var(--sg-background-color, var(--theme-background, var(--jp-layout-color0, #111)));\n",
       "    --sklearn-color-border-box: var(--sg-text-color, var(--theme-code-foreground, var(--jp-content-font-color1, white)));\n",
       "    --sklearn-color-icon: #878787;\n",
       "  }\n",
       "}\n",
       "\n",
       "#sk-container-id-1 {\n",
       "  color: var(--sklearn-color-text);\n",
       "}\n",
       "\n",
       "#sk-container-id-1 pre {\n",
       "  padding: 0;\n",
       "}\n",
       "\n",
       "#sk-container-id-1 input.sk-hidden--visually {\n",
       "  border: 0;\n",
       "  clip: rect(1px 1px 1px 1px);\n",
       "  clip: rect(1px, 1px, 1px, 1px);\n",
       "  height: 1px;\n",
       "  margin: -1px;\n",
       "  overflow: hidden;\n",
       "  padding: 0;\n",
       "  position: absolute;\n",
       "  width: 1px;\n",
       "}\n",
       "\n",
       "#sk-container-id-1 div.sk-dashed-wrapped {\n",
       "  border: 1px dashed var(--sklearn-color-line);\n",
       "  margin: 0 0.4em 0.5em 0.4em;\n",
       "  box-sizing: border-box;\n",
       "  padding-bottom: 0.4em;\n",
       "  background-color: var(--sklearn-color-background);\n",
       "}\n",
       "\n",
       "#sk-container-id-1 div.sk-container {\n",
       "  /* jupyter's `normalize.less` sets `[hidden] { display: none; }`\n",
       "     but bootstrap.min.css set `[hidden] { display: none !important; }`\n",
       "     so we also need the `!important` here to be able to override the\n",
       "     default hidden behavior on the sphinx rendered scikit-learn.org.\n",
       "     See: https://github.com/scikit-learn/scikit-learn/issues/21755 */\n",
       "  display: inline-block !important;\n",
       "  position: relative;\n",
       "}\n",
       "\n",
       "#sk-container-id-1 div.sk-text-repr-fallback {\n",
       "  display: none;\n",
       "}\n",
       "\n",
       "div.sk-parallel-item,\n",
       "div.sk-serial,\n",
       "div.sk-item {\n",
       "  /* draw centered vertical line to link estimators */\n",
       "  background-image: linear-gradient(var(--sklearn-color-text-on-default-background), var(--sklearn-color-text-on-default-background));\n",
       "  background-size: 2px 100%;\n",
       "  background-repeat: no-repeat;\n",
       "  background-position: center center;\n",
       "}\n",
       "\n",
       "/* Parallel-specific style estimator block */\n",
       "\n",
       "#sk-container-id-1 div.sk-parallel-item::after {\n",
       "  content: \"\";\n",
       "  width: 100%;\n",
       "  border-bottom: 2px solid var(--sklearn-color-text-on-default-background);\n",
       "  flex-grow: 1;\n",
       "}\n",
       "\n",
       "#sk-container-id-1 div.sk-parallel {\n",
       "  display: flex;\n",
       "  align-items: stretch;\n",
       "  justify-content: center;\n",
       "  background-color: var(--sklearn-color-background);\n",
       "  position: relative;\n",
       "}\n",
       "\n",
       "#sk-container-id-1 div.sk-parallel-item {\n",
       "  display: flex;\n",
       "  flex-direction: column;\n",
       "}\n",
       "\n",
       "#sk-container-id-1 div.sk-parallel-item:first-child::after {\n",
       "  align-self: flex-end;\n",
       "  width: 50%;\n",
       "}\n",
       "\n",
       "#sk-container-id-1 div.sk-parallel-item:last-child::after {\n",
       "  align-self: flex-start;\n",
       "  width: 50%;\n",
       "}\n",
       "\n",
       "#sk-container-id-1 div.sk-parallel-item:only-child::after {\n",
       "  width: 0;\n",
       "}\n",
       "\n",
       "/* Serial-specific style estimator block */\n",
       "\n",
       "#sk-container-id-1 div.sk-serial {\n",
       "  display: flex;\n",
       "  flex-direction: column;\n",
       "  align-items: center;\n",
       "  background-color: var(--sklearn-color-background);\n",
       "  padding-right: 1em;\n",
       "  padding-left: 1em;\n",
       "}\n",
       "\n",
       "\n",
       "/* Toggleable style: style used for estimator/Pipeline/ColumnTransformer box that is\n",
       "clickable and can be expanded/collapsed.\n",
       "- Pipeline and ColumnTransformer use this feature and define the default style\n",
       "- Estimators will overwrite some part of the style using the `sk-estimator` class\n",
       "*/\n",
       "\n",
       "/* Pipeline and ColumnTransformer style (default) */\n",
       "\n",
       "#sk-container-id-1 div.sk-toggleable {\n",
       "  /* Default theme specific background. It is overwritten whether we have a\n",
       "  specific estimator or a Pipeline/ColumnTransformer */\n",
       "  background-color: var(--sklearn-color-background);\n",
       "}\n",
       "\n",
       "/* Toggleable label */\n",
       "#sk-container-id-1 label.sk-toggleable__label {\n",
       "  cursor: pointer;\n",
       "  display: flex;\n",
       "  width: 100%;\n",
       "  margin-bottom: 0;\n",
       "  padding: 0.5em;\n",
       "  box-sizing: border-box;\n",
       "  text-align: center;\n",
       "  align-items: start;\n",
       "  justify-content: space-between;\n",
       "  gap: 0.5em;\n",
       "}\n",
       "\n",
       "#sk-container-id-1 label.sk-toggleable__label .caption {\n",
       "  font-size: 0.6rem;\n",
       "  font-weight: lighter;\n",
       "  color: var(--sklearn-color-text-muted);\n",
       "}\n",
       "\n",
       "#sk-container-id-1 label.sk-toggleable__label-arrow:before {\n",
       "  /* Arrow on the left of the label */\n",
       "  content: \"▸\";\n",
       "  float: left;\n",
       "  margin-right: 0.25em;\n",
       "  color: var(--sklearn-color-icon);\n",
       "}\n",
       "\n",
       "#sk-container-id-1 label.sk-toggleable__label-arrow:hover:before {\n",
       "  color: var(--sklearn-color-text);\n",
       "}\n",
       "\n",
       "/* Toggleable content - dropdown */\n",
       "\n",
       "#sk-container-id-1 div.sk-toggleable__content {\n",
       "  max-height: 0;\n",
       "  max-width: 0;\n",
       "  overflow: hidden;\n",
       "  text-align: left;\n",
       "  /* unfitted */\n",
       "  background-color: var(--sklearn-color-unfitted-level-0);\n",
       "}\n",
       "\n",
       "#sk-container-id-1 div.sk-toggleable__content.fitted {\n",
       "  /* fitted */\n",
       "  background-color: var(--sklearn-color-fitted-level-0);\n",
       "}\n",
       "\n",
       "#sk-container-id-1 div.sk-toggleable__content pre {\n",
       "  margin: 0.2em;\n",
       "  border-radius: 0.25em;\n",
       "  color: var(--sklearn-color-text);\n",
       "  /* unfitted */\n",
       "  background-color: var(--sklearn-color-unfitted-level-0);\n",
       "}\n",
       "\n",
       "#sk-container-id-1 div.sk-toggleable__content.fitted pre {\n",
       "  /* unfitted */\n",
       "  background-color: var(--sklearn-color-fitted-level-0);\n",
       "}\n",
       "\n",
       "#sk-container-id-1 input.sk-toggleable__control:checked~div.sk-toggleable__content {\n",
       "  /* Expand drop-down */\n",
       "  max-height: 200px;\n",
       "  max-width: 100%;\n",
       "  overflow: auto;\n",
       "}\n",
       "\n",
       "#sk-container-id-1 input.sk-toggleable__control:checked~label.sk-toggleable__label-arrow:before {\n",
       "  content: \"▾\";\n",
       "}\n",
       "\n",
       "/* Pipeline/ColumnTransformer-specific style */\n",
       "\n",
       "#sk-container-id-1 div.sk-label input.sk-toggleable__control:checked~label.sk-toggleable__label {\n",
       "  color: var(--sklearn-color-text);\n",
       "  background-color: var(--sklearn-color-unfitted-level-2);\n",
       "}\n",
       "\n",
       "#sk-container-id-1 div.sk-label.fitted input.sk-toggleable__control:checked~label.sk-toggleable__label {\n",
       "  background-color: var(--sklearn-color-fitted-level-2);\n",
       "}\n",
       "\n",
       "/* Estimator-specific style */\n",
       "\n",
       "/* Colorize estimator box */\n",
       "#sk-container-id-1 div.sk-estimator input.sk-toggleable__control:checked~label.sk-toggleable__label {\n",
       "  /* unfitted */\n",
       "  background-color: var(--sklearn-color-unfitted-level-2);\n",
       "}\n",
       "\n",
       "#sk-container-id-1 div.sk-estimator.fitted input.sk-toggleable__control:checked~label.sk-toggleable__label {\n",
       "  /* fitted */\n",
       "  background-color: var(--sklearn-color-fitted-level-2);\n",
       "}\n",
       "\n",
       "#sk-container-id-1 div.sk-label label.sk-toggleable__label,\n",
       "#sk-container-id-1 div.sk-label label {\n",
       "  /* The background is the default theme color */\n",
       "  color: var(--sklearn-color-text-on-default-background);\n",
       "}\n",
       "\n",
       "/* On hover, darken the color of the background */\n",
       "#sk-container-id-1 div.sk-label:hover label.sk-toggleable__label {\n",
       "  color: var(--sklearn-color-text);\n",
       "  background-color: var(--sklearn-color-unfitted-level-2);\n",
       "}\n",
       "\n",
       "/* Label box, darken color on hover, fitted */\n",
       "#sk-container-id-1 div.sk-label.fitted:hover label.sk-toggleable__label.fitted {\n",
       "  color: var(--sklearn-color-text);\n",
       "  background-color: var(--sklearn-color-fitted-level-2);\n",
       "}\n",
       "\n",
       "/* Estimator label */\n",
       "\n",
       "#sk-container-id-1 div.sk-label label {\n",
       "  font-family: monospace;\n",
       "  font-weight: bold;\n",
       "  display: inline-block;\n",
       "  line-height: 1.2em;\n",
       "}\n",
       "\n",
       "#sk-container-id-1 div.sk-label-container {\n",
       "  text-align: center;\n",
       "}\n",
       "\n",
       "/* Estimator-specific */\n",
       "#sk-container-id-1 div.sk-estimator {\n",
       "  font-family: monospace;\n",
       "  border: 1px dotted var(--sklearn-color-border-box);\n",
       "  border-radius: 0.25em;\n",
       "  box-sizing: border-box;\n",
       "  margin-bottom: 0.5em;\n",
       "  /* unfitted */\n",
       "  background-color: var(--sklearn-color-unfitted-level-0);\n",
       "}\n",
       "\n",
       "#sk-container-id-1 div.sk-estimator.fitted {\n",
       "  /* fitted */\n",
       "  background-color: var(--sklearn-color-fitted-level-0);\n",
       "}\n",
       "\n",
       "/* on hover */\n",
       "#sk-container-id-1 div.sk-estimator:hover {\n",
       "  /* unfitted */\n",
       "  background-color: var(--sklearn-color-unfitted-level-2);\n",
       "}\n",
       "\n",
       "#sk-container-id-1 div.sk-estimator.fitted:hover {\n",
       "  /* fitted */\n",
       "  background-color: var(--sklearn-color-fitted-level-2);\n",
       "}\n",
       "\n",
       "/* Specification for estimator info (e.g. \"i\" and \"?\") */\n",
       "\n",
       "/* Common style for \"i\" and \"?\" */\n",
       "\n",
       ".sk-estimator-doc-link,\n",
       "a:link.sk-estimator-doc-link,\n",
       "a:visited.sk-estimator-doc-link {\n",
       "  float: right;\n",
       "  font-size: smaller;\n",
       "  line-height: 1em;\n",
       "  font-family: monospace;\n",
       "  background-color: var(--sklearn-color-background);\n",
       "  border-radius: 1em;\n",
       "  height: 1em;\n",
       "  width: 1em;\n",
       "  text-decoration: none !important;\n",
       "  margin-left: 0.5em;\n",
       "  text-align: center;\n",
       "  /* unfitted */\n",
       "  border: var(--sklearn-color-unfitted-level-1) 1pt solid;\n",
       "  color: var(--sklearn-color-unfitted-level-1);\n",
       "}\n",
       "\n",
       ".sk-estimator-doc-link.fitted,\n",
       "a:link.sk-estimator-doc-link.fitted,\n",
       "a:visited.sk-estimator-doc-link.fitted {\n",
       "  /* fitted */\n",
       "  border: var(--sklearn-color-fitted-level-1) 1pt solid;\n",
       "  color: var(--sklearn-color-fitted-level-1);\n",
       "}\n",
       "\n",
       "/* On hover */\n",
       "div.sk-estimator:hover .sk-estimator-doc-link:hover,\n",
       ".sk-estimator-doc-link:hover,\n",
       "div.sk-label-container:hover .sk-estimator-doc-link:hover,\n",
       ".sk-estimator-doc-link:hover {\n",
       "  /* unfitted */\n",
       "  background-color: var(--sklearn-color-unfitted-level-3);\n",
       "  color: var(--sklearn-color-background);\n",
       "  text-decoration: none;\n",
       "}\n",
       "\n",
       "div.sk-estimator.fitted:hover .sk-estimator-doc-link.fitted:hover,\n",
       ".sk-estimator-doc-link.fitted:hover,\n",
       "div.sk-label-container:hover .sk-estimator-doc-link.fitted:hover,\n",
       ".sk-estimator-doc-link.fitted:hover {\n",
       "  /* fitted */\n",
       "  background-color: var(--sklearn-color-fitted-level-3);\n",
       "  color: var(--sklearn-color-background);\n",
       "  text-decoration: none;\n",
       "}\n",
       "\n",
       "/* Span, style for the box shown on hovering the info icon */\n",
       ".sk-estimator-doc-link span {\n",
       "  display: none;\n",
       "  z-index: 9999;\n",
       "  position: relative;\n",
       "  font-weight: normal;\n",
       "  right: .2ex;\n",
       "  padding: .5ex;\n",
       "  margin: .5ex;\n",
       "  width: min-content;\n",
       "  min-width: 20ex;\n",
       "  max-width: 50ex;\n",
       "  color: var(--sklearn-color-text);\n",
       "  box-shadow: 2pt 2pt 4pt #999;\n",
       "  /* unfitted */\n",
       "  background: var(--sklearn-color-unfitted-level-0);\n",
       "  border: .5pt solid var(--sklearn-color-unfitted-level-3);\n",
       "}\n",
       "\n",
       ".sk-estimator-doc-link.fitted span {\n",
       "  /* fitted */\n",
       "  background: var(--sklearn-color-fitted-level-0);\n",
       "  border: var(--sklearn-color-fitted-level-3);\n",
       "}\n",
       "\n",
       ".sk-estimator-doc-link:hover span {\n",
       "  display: block;\n",
       "}\n",
       "\n",
       "/* \"?\"-specific style due to the `<a>` HTML tag */\n",
       "\n",
       "#sk-container-id-1 a.estimator_doc_link {\n",
       "  float: right;\n",
       "  font-size: 1rem;\n",
       "  line-height: 1em;\n",
       "  font-family: monospace;\n",
       "  background-color: var(--sklearn-color-background);\n",
       "  border-radius: 1rem;\n",
       "  height: 1rem;\n",
       "  width: 1rem;\n",
       "  text-decoration: none;\n",
       "  /* unfitted */\n",
       "  color: var(--sklearn-color-unfitted-level-1);\n",
       "  border: var(--sklearn-color-unfitted-level-1) 1pt solid;\n",
       "}\n",
       "\n",
       "#sk-container-id-1 a.estimator_doc_link.fitted {\n",
       "  /* fitted */\n",
       "  border: var(--sklearn-color-fitted-level-1) 1pt solid;\n",
       "  color: var(--sklearn-color-fitted-level-1);\n",
       "}\n",
       "\n",
       "/* On hover */\n",
       "#sk-container-id-1 a.estimator_doc_link:hover {\n",
       "  /* unfitted */\n",
       "  background-color: var(--sklearn-color-unfitted-level-3);\n",
       "  color: var(--sklearn-color-background);\n",
       "  text-decoration: none;\n",
       "}\n",
       "\n",
       "#sk-container-id-1 a.estimator_doc_link.fitted:hover {\n",
       "  /* fitted */\n",
       "  background-color: var(--sklearn-color-fitted-level-3);\n",
       "}\n",
       "</style><div id=\"sk-container-id-1\" class=\"sk-top-container\"><div class=\"sk-text-repr-fallback\"><pre>LinearRegression()</pre><b>In a Jupyter environment, please rerun this cell to show the HTML representation or trust the notebook. <br />On GitHub, the HTML representation is unable to render, please try loading this page with nbviewer.org.</b></div><div class=\"sk-container\" hidden><div class=\"sk-item\"><div class=\"sk-estimator fitted sk-toggleable\"><input class=\"sk-toggleable__control sk-hidden--visually\" id=\"sk-estimator-id-1\" type=\"checkbox\" checked><label for=\"sk-estimator-id-1\" class=\"sk-toggleable__label fitted sk-toggleable__label-arrow\"><div><div>LinearRegression</div></div><div><a class=\"sk-estimator-doc-link fitted\" rel=\"noreferrer\" target=\"_blank\" href=\"https://scikit-learn.org/1.6/modules/generated/sklearn.linear_model.LinearRegression.html\">?<span>Documentation for LinearRegression</span></a><span class=\"sk-estimator-doc-link fitted\">i<span>Fitted</span></span></div></label><div class=\"sk-toggleable__content fitted\"><pre>LinearRegression()</pre></div> </div></div></div></div>"
      ],
      "text/plain": [
       "LinearRegression()"
      ]
     },
     "execution_count": 27,
     "metadata": {},
     "output_type": "execute_result"
    }
   ],
   "source": [
    "from sklearn.linear_model import LinearRegression\n",
    "\n",
    "def fit_the_model_on_the_training_data(data, X_train: np.ndarray, y_train: np.ndarray):\n",
    "    regression = None\n",
    "    # Code starts here\n",
    "    regression = LinearRegression()\n",
    "    regression.fit(X_train, y_train)\n",
    "    # Code ends here\n",
    "    return regression\n",
    "\n",
    "# Train the model using X_train and y_train\n",
    "sklearn_model = fit_the_model_on_the_training_data(cleaned_car_sales, X_train, y_train)\n",
    "sklearn_model\n"
   ]
  },
  {
   "cell_type": "markdown",
   "metadata": {
    "id": "IGtxhyRzJ85T"
   },
   "source": [
    "### Task 3: Evaluate the performance of the model using the right evaluation metrics. (weightage - 25 marks)"
   ]
  },
  {
   "cell_type": "markdown",
   "metadata": {
    "id": "3rj9mAb9J85T"
   },
   "source": [
    "#### T3.1: Evaluate the linear regression model with evaluation metrics R2 and RMSE using OLS and sklearn library (weightage - 10 marks) (AE)"
   ]
  },
  {
   "cell_type": "markdown",
   "metadata": {
    "id": "OU6ewAbyJ85T"
   },
   "source": [
    "**Evaluate the OLS model**"
   ]
  },
  {
   "cell_type": "markdown",
   "metadata": {
    "id": "BT9m3YiBJ85U"
   },
   "source": [
    "#### NOTE\n",
    "* Make the predictions on the test set using the provided OLS linear regression model\n",
    "* Calculate the RMSE by comparing the predicted selling prices with the actual selling prices in the test set, using the mean_squared_error function from scikit-learn.\n",
    "* Calculate the R-squared (R²) value using the rsquared attribute of the linear regression model.\n",
    "* Return both `RMSE` and `R²` value."
   ]
  },
  {
   "cell_type": "code",
   "execution_count": 28,
   "metadata": {
    "id": "k1qVc9QyJ85U"
   },
   "outputs": [
    {
     "name": "stdout",
     "output_type": "stream",
     "text": [
      "-----------ols_rmse-----------\n",
      "446612.4527165875\n",
      "--------------ols_r_squared----------\n",
      "0.6849361093833084\n"
     ]
    }
   ],
   "source": [
    "from sklearn.metrics import mean_squared_error\n",
    "import numpy as np\n",
    "\n",
    "def ols_calculate_rmse_r2(model, test_data):\n",
    "    rmse, r_squared = 0.0, 0.0\n",
    "\n",
    "    # Code starts here\n",
    "    # Making predictions on the test set\n",
    "    y_pred = model.predict(test_data)\n",
    "\n",
    "    # Extract the actual target values\n",
    "    y_actual = test_data['selling_price']\n",
    "\n",
    "    # Calculating RMSE\n",
    "    rmse = np.sqrt(mean_squared_error(y_actual, y_pred))\n",
    "\n",
    "    # Calculating R-squared (R²)\n",
    "    r_squared = model.rsquared\n",
    "    # Code ends here\n",
    "\n",
    "    return rmse, r_squared\n",
    "\n",
    "# Call the function to evaluate\n",
    "ols_rmse, ols_r_squared = ols_calculate_rmse_r2(ols_model, test_data)\n",
    "\n",
    "# Output\n",
    "print(\"-----------ols_rmse-----------\")\n",
    "print(ols_rmse)\n",
    "print(\"--------------ols_r_squared----------\")\n",
    "print(ols_r_squared)\n"
   ]
  },
  {
   "cell_type": "markdown",
   "metadata": {
    "id": "lI4lpytjJ85U"
   },
   "source": [
    "**Evaluate the Sklearn model**"
   ]
  },
  {
   "cell_type": "markdown",
   "metadata": {
    "id": "R7VoIWlZJ85U"
   },
   "source": [
    "#### NOTE:\n",
    "* Make the predictions using a trained scikit-learn model (model) on a test dataset (X_test)\n",
    "* Using the trained model predict the target variable for the provided test dataset (X_test) using the predict() method of the model.\n",
    "* Return the predicted target variable values"
   ]
  },
  {
   "cell_type": "code",
   "execution_count": 29,
   "metadata": {
    "id": "0i8R-_P4J85U"
   },
   "outputs": [
    {
     "data": {
      "text/plain": [
       "array([ 601574.56629362, 1195873.89550279,   84776.01811487, ...,\n",
       "       -258268.0780129 ,  120770.76713717,   80084.99952504])"
      ]
     },
     "execution_count": 29,
     "metadata": {},
     "output_type": "execute_result"
    }
   ],
   "source": [
    "def test_the_sklearn_model(model, X_test: np.ndarray) -> np.ndarray:\n",
    "    y_prediction = np.ndarray([])\n",
    "\n",
    "    # code starts here\n",
    "    y_prediction = model.predict(X_test)\n",
    "    # code ends here\n",
    "\n",
    "    return y_prediction\n",
    "\n",
    "# Make predictions using the trained model\n",
    "y_pred = test_the_sklearn_model(sklearn_model, X_test)\n",
    "y_pred"
   ]
  },
  {
   "cell_type": "markdown",
   "metadata": {
    "id": "Kl_oc4jgJ85U"
   },
   "source": [
    "**Evaluate the model with evaluation metric R2 and RMSE**"
   ]
  },
  {
   "cell_type": "code",
   "execution_count": 30,
   "metadata": {
    "id": "-fol5IDEJ85U"
   },
   "outputs": [
    {
     "name": "stdout",
     "output_type": "stream",
     "text": [
      "0.679979444169289\n"
     ]
    }
   ],
   "source": [
    "from sklearn.metrics import r2_score, mean_squared_error\n",
    "\n",
    "def calculate_r_squared_sklearn(y_true, y_pred):\n",
    "    \"\"\"\n",
    "    Calculate the R-squared (coefficient of determination) metric using scikit-learn.\n",
    "\n",
    "    Parameters:\n",
    "    y_true : numpy.ndarray\n",
    "        True target values.\n",
    "    y_pred : numpy.ndarray\n",
    "        Predicted target values.\n",
    "\n",
    "    Returns:\n",
    "    float\n",
    "        R-squared value.\n",
    "    \"\"\"\n",
    "    r_squared = None\n",
    "    # Code starts here\n",
    "    r_squared = r2_score(y_true, y_pred)\n",
    "    # Code ends here\n",
    "    return r_squared\n",
    "\n",
    "# Calculate R-squared\n",
    "r_squared = calculate_r_squared_sklearn(y_test, y_pred)\n",
    "print(r_squared)\n"
   ]
  },
  {
   "cell_type": "code",
   "execution_count": 31,
   "metadata": {
    "id": "qeelifV9J85U"
   },
   "outputs": [
    {
     "name": "stdout",
     "output_type": "stream",
     "text": [
      "460540.7311736535\n"
     ]
    }
   ],
   "source": [
    "from sklearn.metrics import mean_squared_error\n",
    "import numpy as np\n",
    "\n",
    "def calculate_rmse_sklearn(y_true, y_pred):\n",
    "    \"\"\"\n",
    "    Calculate the Root Mean Squared Error (RMSE) metric using scikit-learn.\n",
    "\n",
    "    Parameters:\n",
    "    y_true : numpy.ndarray\n",
    "        True target values.\n",
    "    y_pred : numpy.ndarray\n",
    "        Predicted target values.\n",
    "\n",
    "    Returns:\n",
    "    float\n",
    "        RMSE value.\n",
    "    \"\"\"\n",
    "    rmse = None\n",
    "    # Code starts here\n",
    "    mse = mean_squared_error(y_true, y_pred)\n",
    "    rmse = np.sqrt(mse)\n",
    "    # Code ends here\n",
    "    return rmse\n",
    "\n",
    "# Calculate RMSE\n",
    "rmse_test = calculate_rmse_sklearn(y_test, y_pred)\n",
    "print(rmse_test)\n"
   ]
  },
  {
   "cell_type": "markdown",
   "metadata": {
    "id": "iX2DKvtTJ85V"
   },
   "source": [
    "#### T3.2:Remove the insignificant variables which identified by OLS and multicollinearity -VIF technique. Then apply log transformation on target variable and build the model using sklearn library and evaluate it with R2 and RMSE(weightage - 15 marks) (AE)"
   ]
  },
  {
   "cell_type": "markdown",
   "metadata": {
    "id": "T05DfAMcJ85V"
   },
   "source": [
    "**Remove insignificant variable**\n",
    "#### NOTE:\n",
    "* Because of multicollinearity issue drop the variable engine (VIF > 5)\n",
    "* Because of insignificance drop the variables - City_region, owner, Sales_status"
   ]
  },
  {
   "cell_type": "markdown",
   "metadata": {
    "id": "YDYnfwLrJ85V"
   },
   "source": [
    "### Test for heteroscedasticity"
   ]
  },
  {
   "cell_type": "code",
   "execution_count": 32,
   "metadata": {
    "id": "9oW3t9zpJ85V"
   },
   "outputs": [
    {
     "data": {
      "image/png": "[encoded data removed]",
      "text/plain": [
       "<Figure size 1000x600 with 1 Axes>"
      ]
     },
     "metadata": {},
     "output_type": "display_data"
    }
   ],
   "source": [
    "residuals = y_test - y_pred\n",
    "\n",
    "# Create the residuals vs. fitted values plot\n",
    "plt.figure(figsize=(10, 6))\n",
    "sns.scatterplot(x=y_pred, y=residuals, alpha=0.7)\n",
    "plt.axhline(y=0, color='r', linestyle='--')\n",
    "plt.xlabel(\"Fitted Values\")\n",
    "plt.ylabel(\"Residuals\")\n",
    "plt.title(\"Residuals vs. Fitted Values\")\n",
    "plt.grid(True)\n",
    "plt.show()"
   ]
  },
  {
   "cell_type": "markdown",
   "metadata": {
    "id": "_EmB73eYJ85V"
   },
   "source": [
    "### Shapiro-Wilk Normality Test"
   ]
  },
  {
   "cell_type": "code",
   "execution_count": 33,
   "metadata": {
    "id": "vN5F7FFdJ85V"
   },
   "outputs": [
    {
     "name": "stdout",
     "output_type": "stream",
     "text": [
      "Shapiro-Wilk Test Statistic: 0.8182267428083807\n",
      "P-value: 5.285401987784313e-39\n",
      "Residuals do not appear to be normally distributed (reject H0).\n"
     ]
    }
   ],
   "source": [
    "from scipy.stats import shapiro\n",
    "\n",
    "# Perform Shapiro-Wilk test\n",
    "stat, p_value = shapiro(residuals)\n",
    "\n",
    "print(f\"Shapiro-Wilk Test Statistic: {stat}\")\n",
    "print(f\"P-value: {p_value}\")\n",
    "\n",
    "# Interpretation\n",
    "if p_value > 0.05:\n",
    "    print(\"Residuals appear to be normally distributed (fail to reject H0).\")\n",
    "else:\n",
    "    print(\"Residuals do not appear to be normally distributed (reject H0).\")\n"
   ]
  },
  {
   "cell_type": "code",
   "execution_count": 34,
   "metadata": {
    "id": "0w_ASa0pJ85V"
   },
   "outputs": [
    {
     "data": {
      "text/html": [
       "<div>\n",
       "<style scoped>\n",
       "    .dataframe tbody tr th:only-of-type {\n",
       "        vertical-align: middle;\n",
       "    }\n",
       "\n",
       "    .dataframe tbody tr th {\n",
       "        vertical-align: top;\n",
       "    }\n",
       "\n",
       "    .dataframe thead th {\n",
       "        text-align: right;\n",
       "    }\n",
       "</style>\n",
       "<table border=\"1\" class=\"dataframe\">\n",
       "  <thead>\n",
       "    <tr style=\"text-align: right;\">\n",
       "      <th></th>\n",
       "      <th>year</th>\n",
       "      <th>selling_price</th>\n",
       "      <th>km_driven</th>\n",
       "      <th>fuel</th>\n",
       "      <th>seller_type</th>\n",
       "      <th>transmission</th>\n",
       "      <th>mileage</th>\n",
       "      <th>max_power</th>\n",
       "      <th>seats</th>\n",
       "      <th>city_East_city</th>\n",
       "      <th>city_North_city</th>\n",
       "      <th>city_South_city</th>\n",
       "      <th>city_West_city</th>\n",
       "    </tr>\n",
       "  </thead>\n",
       "  <tbody>\n",
       "    <tr>\n",
       "      <th>0</th>\n",
       "      <td>2014</td>\n",
       "      <td>450000</td>\n",
       "      <td>145500</td>\n",
       "      <td>1</td>\n",
       "      <td>1</td>\n",
       "      <td>1</td>\n",
       "      <td>23.40</td>\n",
       "      <td>74.00</td>\n",
       "      <td>5</td>\n",
       "      <td>False</td>\n",
       "      <td>True</td>\n",
       "      <td>False</td>\n",
       "      <td>False</td>\n",
       "    </tr>\n",
       "    <tr>\n",
       "      <th>1</th>\n",
       "      <td>2014</td>\n",
       "      <td>370000</td>\n",
       "      <td>120000</td>\n",
       "      <td>1</td>\n",
       "      <td>1</td>\n",
       "      <td>1</td>\n",
       "      <td>21.14</td>\n",
       "      <td>103.52</td>\n",
       "      <td>5</td>\n",
       "      <td>True</td>\n",
       "      <td>False</td>\n",
       "      <td>False</td>\n",
       "      <td>False</td>\n",
       "    </tr>\n",
       "    <tr>\n",
       "      <th>2</th>\n",
       "      <td>2006</td>\n",
       "      <td>158000</td>\n",
       "      <td>140000</td>\n",
       "      <td>2</td>\n",
       "      <td>1</td>\n",
       "      <td>1</td>\n",
       "      <td>17.70</td>\n",
       "      <td>78.00</td>\n",
       "      <td>5</td>\n",
       "      <td>False</td>\n",
       "      <td>True</td>\n",
       "      <td>False</td>\n",
       "      <td>False</td>\n",
       "    </tr>\n",
       "    <tr>\n",
       "      <th>3</th>\n",
       "      <td>2010</td>\n",
       "      <td>225000</td>\n",
       "      <td>127000</td>\n",
       "      <td>1</td>\n",
       "      <td>1</td>\n",
       "      <td>1</td>\n",
       "      <td>23.00</td>\n",
       "      <td>90.00</td>\n",
       "      <td>5</td>\n",
       "      <td>False</td>\n",
       "      <td>True</td>\n",
       "      <td>False</td>\n",
       "      <td>False</td>\n",
       "    </tr>\n",
       "    <tr>\n",
       "      <th>4</th>\n",
       "      <td>2007</td>\n",
       "      <td>130000</td>\n",
       "      <td>120000</td>\n",
       "      <td>2</td>\n",
       "      <td>1</td>\n",
       "      <td>1</td>\n",
       "      <td>16.10</td>\n",
       "      <td>88.20</td>\n",
       "      <td>5</td>\n",
       "      <td>False</td>\n",
       "      <td>False</td>\n",
       "      <td>True</td>\n",
       "      <td>False</td>\n",
       "    </tr>\n",
       "    <tr>\n",
       "      <th>...</th>\n",
       "      <td>...</td>\n",
       "      <td>...</td>\n",
       "      <td>...</td>\n",
       "      <td>...</td>\n",
       "      <td>...</td>\n",
       "      <td>...</td>\n",
       "      <td>...</td>\n",
       "      <td>...</td>\n",
       "      <td>...</td>\n",
       "      <td>...</td>\n",
       "      <td>...</td>\n",
       "      <td>...</td>\n",
       "      <td>...</td>\n",
       "    </tr>\n",
       "    <tr>\n",
       "      <th>7901</th>\n",
       "      <td>2013</td>\n",
       "      <td>320000</td>\n",
       "      <td>110000</td>\n",
       "      <td>2</td>\n",
       "      <td>1</td>\n",
       "      <td>1</td>\n",
       "      <td>18.50</td>\n",
       "      <td>82.85</td>\n",
       "      <td>5</td>\n",
       "      <td>False</td>\n",
       "      <td>True</td>\n",
       "      <td>False</td>\n",
       "      <td>False</td>\n",
       "    </tr>\n",
       "    <tr>\n",
       "      <th>7902</th>\n",
       "      <td>2007</td>\n",
       "      <td>135000</td>\n",
       "      <td>119000</td>\n",
       "      <td>1</td>\n",
       "      <td>1</td>\n",
       "      <td>1</td>\n",
       "      <td>16.80</td>\n",
       "      <td>110.00</td>\n",
       "      <td>5</td>\n",
       "      <td>False</td>\n",
       "      <td>True</td>\n",
       "      <td>False</td>\n",
       "      <td>False</td>\n",
       "    </tr>\n",
       "    <tr>\n",
       "      <th>7903</th>\n",
       "      <td>2009</td>\n",
       "      <td>382000</td>\n",
       "      <td>120000</td>\n",
       "      <td>1</td>\n",
       "      <td>1</td>\n",
       "      <td>1</td>\n",
       "      <td>19.30</td>\n",
       "      <td>73.90</td>\n",
       "      <td>5</td>\n",
       "      <td>True</td>\n",
       "      <td>False</td>\n",
       "      <td>False</td>\n",
       "      <td>False</td>\n",
       "    </tr>\n",
       "    <tr>\n",
       "      <th>7904</th>\n",
       "      <td>2013</td>\n",
       "      <td>290000</td>\n",
       "      <td>25000</td>\n",
       "      <td>1</td>\n",
       "      <td>1</td>\n",
       "      <td>1</td>\n",
       "      <td>23.57</td>\n",
       "      <td>70.00</td>\n",
       "      <td>5</td>\n",
       "      <td>False</td>\n",
       "      <td>False</td>\n",
       "      <td>True</td>\n",
       "      <td>False</td>\n",
       "    </tr>\n",
       "    <tr>\n",
       "      <th>7905</th>\n",
       "      <td>2013</td>\n",
       "      <td>290000</td>\n",
       "      <td>25000</td>\n",
       "      <td>1</td>\n",
       "      <td>1</td>\n",
       "      <td>1</td>\n",
       "      <td>23.57</td>\n",
       "      <td>70.00</td>\n",
       "      <td>5</td>\n",
       "      <td>False</td>\n",
       "      <td>True</td>\n",
       "      <td>False</td>\n",
       "      <td>False</td>\n",
       "    </tr>\n",
       "  </tbody>\n",
       "</table>\n",
       "<p>7906 rows × 13 columns</p>\n",
       "</div>"
      ],
      "text/plain": [
       "      year  selling_price  km_driven  fuel  seller_type  transmission  \\\n",
       "0     2014         450000     145500     1            1             1   \n",
       "1     2014         370000     120000     1            1             1   \n",
       "2     2006         158000     140000     2            1             1   \n",
       "3     2010         225000     127000     1            1             1   \n",
       "4     2007         130000     120000     2            1             1   \n",
       "...    ...            ...        ...   ...          ...           ...   \n",
       "7901  2013         320000     110000     2            1             1   \n",
       "7902  2007         135000     119000     1            1             1   \n",
       "7903  2009         382000     120000     1            1             1   \n",
       "7904  2013         290000      25000     1            1             1   \n",
       "7905  2013         290000      25000     1            1             1   \n",
       "\n",
       "      mileage  max_power  seats  city_East_city  city_North_city  \\\n",
       "0       23.40      74.00      5           False             True   \n",
       "1       21.14     103.52      5            True            False   \n",
       "2       17.70      78.00      5           False             True   \n",
       "3       23.00      90.00      5           False             True   \n",
       "4       16.10      88.20      5           False            False   \n",
       "...       ...        ...    ...             ...              ...   \n",
       "7901    18.50      82.85      5           False             True   \n",
       "7902    16.80     110.00      5           False             True   \n",
       "7903    19.30      73.90      5            True            False   \n",
       "7904    23.57      70.00      5           False            False   \n",
       "7905    23.57      70.00      5           False             True   \n",
       "\n",
       "      city_South_city  city_West_city  \n",
       "0               False           False  \n",
       "1               False           False  \n",
       "2               False           False  \n",
       "3               False           False  \n",
       "4                True           False  \n",
       "...               ...             ...  \n",
       "7901            False           False  \n",
       "7902            False           False  \n",
       "7903            False           False  \n",
       "7904             True           False  \n",
       "7905            False           False  \n",
       "\n",
       "[7906 rows x 13 columns]"
      ]
     },
     "execution_count": 34,
     "metadata": {},
     "output_type": "execute_result"
    }
   ],
   "source": [
    "def drop_variables(data):\n",
    "    columns_to_drop = ['engine', 'City_region', 'owner', 'Sales_status']\n",
    "    data = data.drop(columns=columns_to_drop, errors='ignore')\n",
    "    return data# code starts here\n",
    "\n",
    "    # code ends here\n",
    "    return data\n",
    "cleaned_car_sales=drop_variables(cleaned_car_sales)\n",
    "cleaned_car_sales"
   ]
  },
  {
   "cell_type": "markdown",
   "metadata": {
    "id": "XMqQ4Y4UJ85V"
   },
   "source": [
    "**Apply Log transformation on target variable**\n",
    "\n",
    "#### NOTE:\n",
    "* Transform the target variable 'selling_price' into its natural logarithm ('ln_selling_price') using the numpy log function\n",
    "* Return the ln_selling_price' column, which contains the transformed target variable values."
   ]
  },
  {
   "cell_type": "code",
   "execution_count": 35,
   "metadata": {
    "id": "tsiEnGBuJ85V"
   },
   "outputs": [
    {
     "data": {
      "text/plain": [
       "0       13.017003\n",
       "1       12.821258\n",
       "2       11.970350\n",
       "3       12.323856\n",
       "4       11.775290\n",
       "          ...    \n",
       "7901    12.676076\n",
       "7902    11.813030\n",
       "7903    12.853176\n",
       "7904    12.577636\n",
       "7905    12.577636\n",
       "Name: ln_selling_price, Length: 7906, dtype: float64"
      ]
     },
     "execution_count": 35,
     "metadata": {},
     "output_type": "execute_result"
    }
   ],
   "source": [
    "def target_transform(data):\n",
    "    # Apply natural logarithm transformation to the target variable\n",
    "    data[\"ln_selling_price\"] = np.log(data[\"selling_price\"])\n",
    "    return data[\"ln_selling_price\"]\n",
    "target_transform(cleaned_car_sales)"
   ]
  },
  {
   "cell_type": "markdown",
   "metadata": {
    "id": "c51z68egJ85V"
   },
   "source": [
    "**Separate independent features and target variable**\n",
    "#### NOTE:\n",
    "* Extract the feature variables (X) by dropping the columns 'ln_selling_price' and 'selling_price' from the DataFrame df using the drop() method\n",
    "* Extract the target variable (y) by selecting only the 'ln_selling_price' column from the DataFrame df."
   ]
  },
  {
   "cell_type": "code",
   "execution_count": 36,
   "metadata": {
    "id": "-lDt5O49J85W"
   },
   "outputs": [
    {
     "name": "stdout",
     "output_type": "stream",
     "text": [
      "---------X----------\n",
      "      year  km_driven  fuel  seller_type  transmission  mileage  max_power  \\\n",
      "0     2014     145500     1            1             1    23.40      74.00   \n",
      "1     2014     120000     1            1             1    21.14     103.52   \n",
      "2     2006     140000     2            1             1    17.70      78.00   \n",
      "3     2010     127000     1            1             1    23.00      90.00   \n",
      "4     2007     120000     2            1             1    16.10      88.20   \n",
      "...    ...        ...   ...          ...           ...      ...        ...   \n",
      "7901  2013     110000     2            1             1    18.50      82.85   \n",
      "7902  2007     119000     1            1             1    16.80     110.00   \n",
      "7903  2009     120000     1            1             1    19.30      73.90   \n",
      "7904  2013      25000     1            1             1    23.57      70.00   \n",
      "7905  2013      25000     1            1             1    23.57      70.00   \n",
      "\n",
      "      seats  city_East_city  city_North_city  city_South_city  city_West_city  \n",
      "0         5           False             True            False           False  \n",
      "1         5            True            False            False           False  \n",
      "2         5           False             True            False           False  \n",
      "3         5           False             True            False           False  \n",
      "4         5           False            False             True           False  \n",
      "...     ...             ...              ...              ...             ...  \n",
      "7901      5           False             True            False           False  \n",
      "7902      5           False             True            False           False  \n",
      "7903      5            True            False            False           False  \n",
      "7904      5           False            False             True           False  \n",
      "7905      5           False             True            False           False  \n",
      "\n",
      "[7906 rows x 12 columns]\n",
      "----------y---------\n",
      "0       13.017003\n",
      "1       12.821258\n",
      "2       11.970350\n",
      "3       12.323856\n",
      "4       11.775290\n",
      "          ...    \n",
      "7901    12.676076\n",
      "7902    11.813030\n",
      "7903    12.853176\n",
      "7904    12.577636\n",
      "7905    12.577636\n",
      "Name: ln_selling_price, Length: 7906, dtype: float64\n"
     ]
    }
   ],
   "source": [
    "def separate_data_and_target_new(df):\n",
    "    # Extract feature variables by dropping target columns\n",
    "    X = df.drop(columns=['selling_price', 'ln_selling_price'])\n",
    "\n",
    "    # Extract target variable\n",
    "    y = df['ln_selling_price']\n",
    "\n",
    "    return X, y\n",
    "X, y = separate_data_and_target_new(cleaned_car_sales)\n",
    "print(\"---------X----------\")\n",
    "print(X)\n",
    "print(\"----------y---------\")\n",
    "print(y)"
   ]
  },
  {
   "cell_type": "code",
   "execution_count": 37,
   "metadata": {
    "id": "L3RnPJtNJ85W"
   },
   "outputs": [
    {
     "name": "stdout",
     "output_type": "stream",
     "text": [
      "--------X_train-----------\n",
      "[[ 0.4         0.          1.         ...  1.          0.\n",
      "   0.        ]\n",
      " [ 0.4        -0.53680707  0.         ...  0.          1.\n",
      "   0.        ]\n",
      " [ 0.8        -0.76942347  0.         ...  0.          0.\n",
      "   1.        ]\n",
      " ...\n",
      " [ 0.         -0.44733923  1.         ...  0.          0.\n",
      "   1.        ]\n",
      " [-0.4         2.0219733   0.         ...  1.          0.\n",
      "   0.        ]\n",
      " [-1.6         0.71574276  0.         ...  0.          1.\n",
      "   0.        ]]\n",
      "--------X_test-----------\n",
      "[[ 0.4        -0.39365852  1.         ...  0.          0.\n",
      "   1.        ]\n",
      " [ 0.8        -0.94778657  1.         ...  0.          0.\n",
      "   1.        ]\n",
      " [-1.          0.89467845  0.         ...  0.          0.\n",
      "   1.        ]\n",
      " ...\n",
      " [-2.2         1.07361414  1.         ...  1.          0.\n",
      "   0.        ]\n",
      " [ 0.6         1.07361414  1.         ...  1.          0.\n",
      "   0.        ]\n",
      " [ 0.2         1.07361414  0.         ...  0.          0.\n",
      "   1.        ]]\n",
      "--------y_train-----------\n",
      "4976    12.765688\n",
      "2026    13.997832\n",
      "7087    13.815511\n",
      "4052    12.765688\n",
      "4096    15.150512\n",
      "          ...    \n",
      "4931    12.950388\n",
      "3264    13.199324\n",
      "1653    13.122363\n",
      "2607    13.079456\n",
      "2732    11.775290\n",
      "Name: ln_selling_price, Length: 6324, dtype: float64\n",
      "--------y_test-----------\n",
      "3927    12.971540\n",
      "4695    13.565766\n",
      "4979    12.206073\n",
      "6325    13.592367\n",
      "44      12.873902\n",
      "          ...    \n",
      "7596    13.017003\n",
      "2228    13.384728\n",
      "555     11.695247\n",
      "4916    12.736701\n",
      "7222    13.337475\n",
      "Name: ln_selling_price, Length: 1582, dtype: float64\n"
     ]
    }
   ],
   "source": [
    "from sklearn.model_selection import train_test_split\n",
    "from sklearn.preprocessing import RobustScaler\n",
    "\n",
    "def split_into_train_and_test_normalize_features_2(X, y):\n",
    "    # Splitting dataset to train and test sets (80% train and 20% test)\n",
    "    X_train, X_test, y_train, y_test = train_test_split(X, y, test_size=0.2, random_state=0)\n",
    "\n",
    "    # Instantiate the RobustScaler\n",
    "    scaler = RobustScaler()\n",
    "\n",
    "    # Fit the scaler to the training data and transform it\n",
    "    X_train_scaled = scaler.fit_transform(X_train)\n",
    "\n",
    "    # Transform the testing data using the same scaler\n",
    "    X_test_scaled = scaler.transform(X_test)\n",
    "\n",
    "    return X_train_scaled, X_test_scaled, y_train, y_test\n",
    "\n",
    "# Now call the function and print the results\n",
    "X_train, X_test, y_train, y_test = split_into_train_and_test_normalize_features_2(X, y)\n",
    "print(\"--------X_train-----------\")\n",
    "print(X_train)\n",
    "print(\"--------X_test-----------\")\n",
    "print(X_test)\n",
    "print(\"--------y_train-----------\")\n",
    "print(y_train)\n",
    "print(\"--------y_test-----------\")\n",
    "print(y_test)\n"
   ]
  },
  {
   "cell_type": "code",
   "execution_count": 38,
   "metadata": {
    "id": "ZscUeQIxJ85W"
   },
   "outputs": [
    {
     "name": "stdout",
     "output_type": "stream",
     "text": [
      "LinearRegression()\n"
     ]
    }
   ],
   "source": [
    "from sklearn.linear_model import LinearRegression\n",
    "\n",
    "def fit_the_model_on_the_training_data_2(data, X_train: np.ndarray, y_train: np.ndarray):\n",
    "    # Instantiate the linear regression model\n",
    "    regression = LinearRegression()\n",
    "\n",
    "    # Fit the model on training data\n",
    "    regression.fit(X_train, y_train)\n",
    "\n",
    "    return regression\n",
    "\n",
    "# Fit the model\n",
    "final_model = fit_the_model_on_the_training_data_2(cleaned_car_sales, X_train, y_train)\n",
    "print(final_model)\n"
   ]
  },
  {
   "cell_type": "code",
   "execution_count": 39,
   "metadata": {
    "id": "okdXaDvBJ85W"
   },
   "outputs": [
    {
     "name": "stdout",
     "output_type": "stream",
     "text": [
      "[ 601574.56629362 1195873.89550279   84776.01811487 ... -258268.0780129\n",
      "  120770.76713717   80084.99952504]\n"
     ]
    }
   ],
   "source": [
    "#Test the model on the testing dataset and return the predicted values for the test dataset\n",
    "def test_the_finalmodel(model1, X_test):\n",
    "    y_prediction = np.ndarray([])\n",
    "    # code starts here\n",
    "\n",
    "\n",
    "    # code ends here\n",
    "    return y_prediction\n",
    "#prediction\n",
    "y_pred_1=test_the_finalmodel(final_model, X_test)\n",
    "print(y_pred)"
   ]
  },
  {
   "cell_type": "code",
   "execution_count": 40,
   "metadata": {
    "id": "gquyt3uVJ85W"
   },
   "outputs": [
    {
     "ename": "TypeError",
     "evalue": "Input should have at least 1 dimension i.e. satisfy `len(x.shape) > 0`, got scalar `array(12.99499955)` instead.",
     "output_type": "error",
     "traceback": [
      "\u001b[0;31m---------------------------------------------------------------------------\u001b[0m",
      "\u001b[0;31mTypeError\u001b[0m                                 Traceback (most recent call last)",
      "Cell \u001b[0;32mIn[40], line 20\u001b[0m\n\u001b[1;32m     18\u001b[0m     \u001b[38;5;28;01mreturn\u001b[39;00m r_squared\n\u001b[1;32m     19\u001b[0m \u001b[38;5;66;03m#r-squared\u001b[39;00m\n\u001b[0;32m---> 20\u001b[0m r_squared_final_model \u001b[38;5;241m=\u001b[39m \u001b[43mcalculate_r_squared_finalmodel\u001b[49m\u001b[43m(\u001b[49m\u001b[43my_test\u001b[49m\u001b[43m,\u001b[49m\u001b[43m \u001b[49m\u001b[43my_pred_1\u001b[49m\u001b[43m)\u001b[49m\n\u001b[1;32m     21\u001b[0m \u001b[38;5;28mprint\u001b[39m(r_squared_final_model)\n",
      "Cell \u001b[0;32mIn[40], line 16\u001b[0m, in \u001b[0;36mcalculate_r_squared_finalmodel\u001b[0;34m(y_true, y_pred)\u001b[0m\n\u001b[1;32m      2\u001b[0m \u001b[38;5;250m\u001b[39m\u001b[38;5;124;03m\"\"\"\u001b[39;00m\n\u001b[1;32m      3\u001b[0m \u001b[38;5;124;03mCalculate the R-squared (coefficient of determination) metric using scikit-learn.\u001b[39;00m\n\u001b[1;32m      4\u001b[0m \n\u001b[0;32m   (...)\u001b[0m\n\u001b[1;32m     13\u001b[0m \u001b[38;5;124;03m    R-squared value.\u001b[39;00m\n\u001b[1;32m     14\u001b[0m \u001b[38;5;124;03m\"\"\"\u001b[39;00m\n\u001b[1;32m     15\u001b[0m \u001b[38;5;66;03m# Code starts here\u001b[39;00m\n\u001b[0;32m---> 16\u001b[0m r_squared \u001b[38;5;241m=\u001b[39m \u001b[43mr2_score\u001b[49m\u001b[43m(\u001b[49m\u001b[43my_true\u001b[49m\u001b[43m,\u001b[49m\u001b[43m \u001b[49m\u001b[43my_pred\u001b[49m\u001b[43m)\u001b[49m\n\u001b[1;32m     17\u001b[0m \u001b[38;5;66;03m# Code ends here\u001b[39;00m\n\u001b[1;32m     18\u001b[0m \u001b[38;5;28;01mreturn\u001b[39;00m r_squared\n",
      "File \u001b[0;32m/usr/local/lib/python3.10/dist-packages/sklearn/utils/_param_validation.py:216\u001b[0m, in \u001b[0;36mvalidate_params.<locals>.decorator.<locals>.wrapper\u001b[0;34m(*args, **kwargs)\u001b[0m\n\u001b[1;32m    210\u001b[0m \u001b[38;5;28;01mtry\u001b[39;00m:\n\u001b[1;32m    211\u001b[0m     \u001b[38;5;28;01mwith\u001b[39;00m config_context(\n\u001b[1;32m    212\u001b[0m         skip_parameter_validation\u001b[38;5;241m=\u001b[39m(\n\u001b[1;32m    213\u001b[0m             prefer_skip_nested_validation \u001b[38;5;129;01mor\u001b[39;00m global_skip_validation\n\u001b[1;32m    214\u001b[0m         )\n\u001b[1;32m    215\u001b[0m     ):\n\u001b[0;32m--> 216\u001b[0m         \u001b[38;5;28;01mreturn\u001b[39;00m \u001b[43mfunc\u001b[49m\u001b[43m(\u001b[49m\u001b[38;5;241;43m*\u001b[39;49m\u001b[43margs\u001b[49m\u001b[43m,\u001b[49m\u001b[43m \u001b[49m\u001b[38;5;241;43m*\u001b[39;49m\u001b[38;5;241;43m*\u001b[39;49m\u001b[43mkwargs\u001b[49m\u001b[43m)\u001b[49m\n\u001b[1;32m    217\u001b[0m \u001b[38;5;28;01mexcept\u001b[39;00m InvalidParameterError \u001b[38;5;28;01mas\u001b[39;00m e:\n\u001b[1;32m    218\u001b[0m     \u001b[38;5;66;03m# When the function is just a wrapper around an estimator, we allow\u001b[39;00m\n\u001b[1;32m    219\u001b[0m     \u001b[38;5;66;03m# the function to delegate validation to the estimator, but we replace\u001b[39;00m\n\u001b[1;32m    220\u001b[0m     \u001b[38;5;66;03m# the name of the estimator by the name of the function in the error\u001b[39;00m\n\u001b[1;32m    221\u001b[0m     \u001b[38;5;66;03m# message to avoid confusion.\u001b[39;00m\n\u001b[1;32m    222\u001b[0m     msg \u001b[38;5;241m=\u001b[39m re\u001b[38;5;241m.\u001b[39msub(\n\u001b[1;32m    223\u001b[0m         \u001b[38;5;124mr\u001b[39m\u001b[38;5;124m\"\u001b[39m\u001b[38;5;124mparameter of \u001b[39m\u001b[38;5;124m\\\u001b[39m\u001b[38;5;124mw+ must be\u001b[39m\u001b[38;5;124m\"\u001b[39m,\n\u001b[1;32m    224\u001b[0m         \u001b[38;5;124mf\u001b[39m\u001b[38;5;124m\"\u001b[39m\u001b[38;5;124mparameter of \u001b[39m\u001b[38;5;132;01m{\u001b[39;00mfunc\u001b[38;5;241m.\u001b[39m\u001b[38;5;18m__qualname__\u001b[39m\u001b[38;5;132;01m}\u001b[39;00m\u001b[38;5;124m must be\u001b[39m\u001b[38;5;124m\"\u001b[39m,\n\u001b[1;32m    225\u001b[0m         \u001b[38;5;28mstr\u001b[39m(e),\n\u001b[1;32m    226\u001b[0m     )\n",
      "File \u001b[0;32m/usr/local/lib/python3.10/dist-packages/sklearn/metrics/_regression.py:1257\u001b[0m, in \u001b[0;36mr2_score\u001b[0;34m(y_true, y_pred, sample_weight, multioutput, force_finite)\u001b[0m\n\u001b[1;32m   1133\u001b[0m \u001b[38;5;250m\u001b[39m\u001b[38;5;124;03m\"\"\":math:`R^2` (coefficient of determination) regression score function.\u001b[39;00m\n\u001b[1;32m   1134\u001b[0m \n\u001b[1;32m   1135\u001b[0m \u001b[38;5;124;03mBest possible score is 1.0 and it can be negative (because the\u001b[39;00m\n\u001b[0;32m   (...)\u001b[0m\n\u001b[1;32m   1250\u001b[0m \u001b[38;5;124;03m-inf\u001b[39;00m\n\u001b[1;32m   1251\u001b[0m \u001b[38;5;124;03m\"\"\"\u001b[39;00m\n\u001b[1;32m   1252\u001b[0m xp, _, device_ \u001b[38;5;241m=\u001b[39m get_namespace_and_device(\n\u001b[1;32m   1253\u001b[0m     y_true, y_pred, sample_weight, multioutput\n\u001b[1;32m   1254\u001b[0m )\n\u001b[1;32m   1256\u001b[0m _, y_true, y_pred, sample_weight, multioutput \u001b[38;5;241m=\u001b[39m (\n\u001b[0;32m-> 1257\u001b[0m     \u001b[43m_check_reg_targets_with_floating_dtype\u001b[49m\u001b[43m(\u001b[49m\n\u001b[1;32m   1258\u001b[0m \u001b[43m        \u001b[49m\u001b[43my_true\u001b[49m\u001b[43m,\u001b[49m\u001b[43m \u001b[49m\u001b[43my_pred\u001b[49m\u001b[43m,\u001b[49m\u001b[43m \u001b[49m\u001b[43msample_weight\u001b[49m\u001b[43m,\u001b[49m\u001b[43m \u001b[49m\u001b[43mmultioutput\u001b[49m\u001b[43m,\u001b[49m\u001b[43m \u001b[49m\u001b[43mxp\u001b[49m\u001b[38;5;241;43m=\u001b[39;49m\u001b[43mxp\u001b[49m\n\u001b[1;32m   1259\u001b[0m \u001b[43m    \u001b[49m\u001b[43m)\u001b[49m\n\u001b[1;32m   1260\u001b[0m )\n\u001b[1;32m   1262\u001b[0m check_consistent_length(y_true, y_pred, sample_weight)\n\u001b[1;32m   1264\u001b[0m \u001b[38;5;28;01mif\u001b[39;00m _num_samples(y_pred) \u001b[38;5;241m<\u001b[39m \u001b[38;5;241m2\u001b[39m:\n",
      "File \u001b[0;32m/usr/local/lib/python3.10/dist-packages/sklearn/metrics/_regression.py:198\u001b[0m, in \u001b[0;36m_check_reg_targets_with_floating_dtype\u001b[0;34m(y_true, y_pred, sample_weight, multioutput, xp)\u001b[0m\n\u001b[1;32m    148\u001b[0m \u001b[38;5;250m\u001b[39m\u001b[38;5;124;03m\"\"\"Ensures that y_true, y_pred, and sample_weight correspond to the same\u001b[39;00m\n\u001b[1;32m    149\u001b[0m \u001b[38;5;124;03mregression task.\u001b[39;00m\n\u001b[1;32m    150\u001b[0m \n\u001b[0;32m   (...)\u001b[0m\n\u001b[1;32m    194\u001b[0m \u001b[38;5;124;03m    correct keyword.\u001b[39;00m\n\u001b[1;32m    195\u001b[0m \u001b[38;5;124;03m\"\"\"\u001b[39;00m\n\u001b[1;32m    196\u001b[0m dtype_name \u001b[38;5;241m=\u001b[39m _find_matching_floating_dtype(y_true, y_pred, sample_weight, xp\u001b[38;5;241m=\u001b[39mxp)\n\u001b[0;32m--> 198\u001b[0m y_type, y_true, y_pred, multioutput \u001b[38;5;241m=\u001b[39m \u001b[43m_check_reg_targets\u001b[49m\u001b[43m(\u001b[49m\n\u001b[1;32m    199\u001b[0m \u001b[43m    \u001b[49m\u001b[43my_true\u001b[49m\u001b[43m,\u001b[49m\u001b[43m \u001b[49m\u001b[43my_pred\u001b[49m\u001b[43m,\u001b[49m\u001b[43m \u001b[49m\u001b[43mmultioutput\u001b[49m\u001b[43m,\u001b[49m\u001b[43m \u001b[49m\u001b[43mdtype\u001b[49m\u001b[38;5;241;43m=\u001b[39;49m\u001b[43mdtype_name\u001b[49m\u001b[43m,\u001b[49m\u001b[43m \u001b[49m\u001b[43mxp\u001b[49m\u001b[38;5;241;43m=\u001b[39;49m\u001b[43mxp\u001b[49m\n\u001b[1;32m    200\u001b[0m \u001b[43m\u001b[49m\u001b[43m)\u001b[49m\n\u001b[1;32m    202\u001b[0m \u001b[38;5;66;03m# _check_reg_targets does not accept sample_weight as input.\u001b[39;00m\n\u001b[1;32m    203\u001b[0m \u001b[38;5;66;03m# Convert sample_weight's data type separately to match dtype_name.\u001b[39;00m\n\u001b[1;32m    204\u001b[0m \u001b[38;5;28;01mif\u001b[39;00m sample_weight \u001b[38;5;129;01mis\u001b[39;00m \u001b[38;5;129;01mnot\u001b[39;00m \u001b[38;5;28;01mNone\u001b[39;00m:\n",
      "File \u001b[0;32m/usr/local/lib/python3.10/dist-packages/sklearn/metrics/_regression.py:104\u001b[0m, in \u001b[0;36m_check_reg_targets\u001b[0;34m(y_true, y_pred, multioutput, dtype, xp)\u001b[0m\n\u001b[1;32m     59\u001b[0m \u001b[38;5;250m\u001b[39m\u001b[38;5;124;03m\"\"\"Check that y_true and y_pred belong to the same regression task.\u001b[39;00m\n\u001b[1;32m     60\u001b[0m \n\u001b[1;32m     61\u001b[0m \u001b[38;5;124;03mTo reduce redundancy when calling `_find_matching_floating_dtype`,\u001b[39;00m\n\u001b[0;32m   (...)\u001b[0m\n\u001b[1;32m    100\u001b[0m \u001b[38;5;124;03m    correct keyword.\u001b[39;00m\n\u001b[1;32m    101\u001b[0m \u001b[38;5;124;03m\"\"\"\u001b[39;00m\n\u001b[1;32m    102\u001b[0m xp, _ \u001b[38;5;241m=\u001b[39m get_namespace(y_true, y_pred, multioutput, xp\u001b[38;5;241m=\u001b[39mxp)\n\u001b[0;32m--> 104\u001b[0m \u001b[43mcheck_consistent_length\u001b[49m\u001b[43m(\u001b[49m\u001b[43my_true\u001b[49m\u001b[43m,\u001b[49m\u001b[43m \u001b[49m\u001b[43my_pred\u001b[49m\u001b[43m)\u001b[49m\n\u001b[1;32m    105\u001b[0m y_true \u001b[38;5;241m=\u001b[39m check_array(y_true, ensure_2d\u001b[38;5;241m=\u001b[39m\u001b[38;5;28;01mFalse\u001b[39;00m, dtype\u001b[38;5;241m=\u001b[39mdtype)\n\u001b[1;32m    106\u001b[0m y_pred \u001b[38;5;241m=\u001b[39m check_array(y_pred, ensure_2d\u001b[38;5;241m=\u001b[39m\u001b[38;5;28;01mFalse\u001b[39;00m, dtype\u001b[38;5;241m=\u001b[39mdtype)\n",
      "File \u001b[0;32m/usr/local/lib/python3.10/dist-packages/sklearn/utils/validation.py:472\u001b[0m, in \u001b[0;36mcheck_consistent_length\u001b[0;34m(*arrays)\u001b[0m\n\u001b[1;32m    454\u001b[0m \u001b[38;5;28;01mdef\u001b[39;00m\u001b[38;5;250m \u001b[39m\u001b[38;5;21mcheck_consistent_length\u001b[39m(\u001b[38;5;241m*\u001b[39marrays):\n\u001b[1;32m    455\u001b[0m \u001b[38;5;250m    \u001b[39m\u001b[38;5;124;03m\"\"\"Check that all arrays have consistent first dimensions.\u001b[39;00m\n\u001b[1;32m    456\u001b[0m \n\u001b[1;32m    457\u001b[0m \u001b[38;5;124;03m    Checks whether all objects in arrays have the same shape or length.\u001b[39;00m\n\u001b[0;32m   (...)\u001b[0m\n\u001b[1;32m    469\u001b[0m \u001b[38;5;124;03m    >>> check_consistent_length(a, b)\u001b[39;00m\n\u001b[1;32m    470\u001b[0m \u001b[38;5;124;03m    \"\"\"\u001b[39;00m\n\u001b[0;32m--> 472\u001b[0m     lengths \u001b[38;5;241m=\u001b[39m [_num_samples(X) \u001b[38;5;28;01mfor\u001b[39;00m X \u001b[38;5;129;01min\u001b[39;00m arrays \u001b[38;5;28;01mif\u001b[39;00m X \u001b[38;5;129;01mis\u001b[39;00m \u001b[38;5;129;01mnot\u001b[39;00m \u001b[38;5;28;01mNone\u001b[39;00m]\n\u001b[1;32m    473\u001b[0m     uniques \u001b[38;5;241m=\u001b[39m np\u001b[38;5;241m.\u001b[39munique(lengths)\n\u001b[1;32m    474\u001b[0m     \u001b[38;5;28;01mif\u001b[39;00m \u001b[38;5;28mlen\u001b[39m(uniques) \u001b[38;5;241m>\u001b[39m \u001b[38;5;241m1\u001b[39m:\n",
      "File \u001b[0;32m/usr/local/lib/python3.10/dist-packages/sklearn/utils/validation.py:472\u001b[0m, in \u001b[0;36m<listcomp>\u001b[0;34m(.0)\u001b[0m\n\u001b[1;32m    454\u001b[0m \u001b[38;5;28;01mdef\u001b[39;00m\u001b[38;5;250m \u001b[39m\u001b[38;5;21mcheck_consistent_length\u001b[39m(\u001b[38;5;241m*\u001b[39marrays):\n\u001b[1;32m    455\u001b[0m \u001b[38;5;250m    \u001b[39m\u001b[38;5;124;03m\"\"\"Check that all arrays have consistent first dimensions.\u001b[39;00m\n\u001b[1;32m    456\u001b[0m \n\u001b[1;32m    457\u001b[0m \u001b[38;5;124;03m    Checks whether all objects in arrays have the same shape or length.\u001b[39;00m\n\u001b[0;32m   (...)\u001b[0m\n\u001b[1;32m    469\u001b[0m \u001b[38;5;124;03m    >>> check_consistent_length(a, b)\u001b[39;00m\n\u001b[1;32m    470\u001b[0m \u001b[38;5;124;03m    \"\"\"\u001b[39;00m\n\u001b[0;32m--> 472\u001b[0m     lengths \u001b[38;5;241m=\u001b[39m [\u001b[43m_num_samples\u001b[49m\u001b[43m(\u001b[49m\u001b[43mX\u001b[49m\u001b[43m)\u001b[49m \u001b[38;5;28;01mfor\u001b[39;00m X \u001b[38;5;129;01min\u001b[39;00m arrays \u001b[38;5;28;01mif\u001b[39;00m X \u001b[38;5;129;01mis\u001b[39;00m \u001b[38;5;129;01mnot\u001b[39;00m \u001b[38;5;28;01mNone\u001b[39;00m]\n\u001b[1;32m    473\u001b[0m     uniques \u001b[38;5;241m=\u001b[39m np\u001b[38;5;241m.\u001b[39munique(lengths)\n\u001b[1;32m    474\u001b[0m     \u001b[38;5;28;01mif\u001b[39;00m \u001b[38;5;28mlen\u001b[39m(uniques) \u001b[38;5;241m>\u001b[39m \u001b[38;5;241m1\u001b[39m:\n",
      "File \u001b[0;32m/usr/local/lib/python3.10/dist-packages/sklearn/utils/validation.py:399\u001b[0m, in \u001b[0;36m_num_samples\u001b[0;34m(x)\u001b[0m\n\u001b[1;32m    397\u001b[0m \u001b[38;5;28;01mif\u001b[39;00m \u001b[38;5;28mhasattr\u001b[39m(x, \u001b[38;5;124m\"\u001b[39m\u001b[38;5;124mshape\u001b[39m\u001b[38;5;124m\"\u001b[39m) \u001b[38;5;129;01mand\u001b[39;00m x\u001b[38;5;241m.\u001b[39mshape \u001b[38;5;129;01mis\u001b[39;00m \u001b[38;5;129;01mnot\u001b[39;00m \u001b[38;5;28;01mNone\u001b[39;00m:\n\u001b[1;32m    398\u001b[0m     \u001b[38;5;28;01mif\u001b[39;00m \u001b[38;5;28mlen\u001b[39m(x\u001b[38;5;241m.\u001b[39mshape) \u001b[38;5;241m==\u001b[39m \u001b[38;5;241m0\u001b[39m:\n\u001b[0;32m--> 399\u001b[0m         \u001b[38;5;28;01mraise\u001b[39;00m \u001b[38;5;167;01mTypeError\u001b[39;00m(\n\u001b[1;32m    400\u001b[0m             \u001b[38;5;124m\"\u001b[39m\u001b[38;5;124mInput should have at least 1 dimension i.e. satisfy \u001b[39m\u001b[38;5;124m\"\u001b[39m\n\u001b[1;32m    401\u001b[0m             \u001b[38;5;124mf\u001b[39m\u001b[38;5;124m\"\u001b[39m\u001b[38;5;124m`len(x.shape) > 0`, got scalar `\u001b[39m\u001b[38;5;132;01m{\u001b[39;00mx\u001b[38;5;132;01m!r}\u001b[39;00m\u001b[38;5;124m` instead.\u001b[39m\u001b[38;5;124m\"\u001b[39m\n\u001b[1;32m    402\u001b[0m         )\n\u001b[1;32m    403\u001b[0m     \u001b[38;5;66;03m# Check that shape is returning an integer or default to len\u001b[39;00m\n\u001b[1;32m    404\u001b[0m     \u001b[38;5;66;03m# Dask dataframes may not return numeric shape[0] value\u001b[39;00m\n\u001b[1;32m    405\u001b[0m     \u001b[38;5;28;01mif\u001b[39;00m \u001b[38;5;28misinstance\u001b[39m(x\u001b[38;5;241m.\u001b[39mshape[\u001b[38;5;241m0\u001b[39m], numbers\u001b[38;5;241m.\u001b[39mIntegral):\n",
      "\u001b[0;31mTypeError\u001b[0m: Input should have at least 1 dimension i.e. satisfy `len(x.shape) > 0`, got scalar `array(12.99499955)` instead."
     ]
    }
   ],
   "source": [
    "def calculate_r_squared_finalmodel(y_true, y_pred):\n",
    "    \"\"\"\n",
    "    Calculate the R-squared (coefficient of determination) metric using scikit-learn.\n",
    "\n",
    "    Parameters:\n",
    "    y_true : numpy.ndarray\n",
    "        True target values.\n",
    "    y_pred : numpy.ndarray\n",
    "        Predicted target values.\n",
    "\n",
    "    Returns:\n",
    "    float\n",
    "        R-squared value.\n",
    "    \"\"\"\n",
    "    # Code starts here\n",
    "    r_squared = r2_score(y_true, y_pred)\n",
    "    # Code ends here\n",
    "    return r_squared\n",
    "#r-squared\n",
    "r_squared_final_model = calculate_r_squared_finalmodel(y_test, y_pred_1)\n",
    "print(r_squared_final_model)"
   ]
  },
  {
   "cell_type": "code",
   "execution_count": null,
   "metadata": {
    "id": "3n2lB4nkJ85W"
   },
   "outputs": [],
   "source": [
    "def calculate_rmse_finalmodel(y_true, y_pred):\n",
    "    \"\"\"\n",
    "    Calculate the Root Mean Squared Error (RMSE) metric using scikit-learn.\n",
    "\n",
    "    Parameters:\n",
    "    y_true : numpy.ndarray\n",
    "        True target values.\n",
    "    y_pred : numpy.ndarray\n",
    "        Predicted target values.\n",
    "\n",
    "    Returns:\n",
    "    float\n",
    "        RMSE value.\n",
    "    \"\"\"\n",
    "    # Code starts here\n",
    "    rmse = np.sqrt(mean_squared_error(y_true, y_pred))\n",
    "    return rmse\n",
    "\n",
    "\n",
    "# Calculate RMSE\n",
    "rmse_final_model = calculate_rmse_finalmodel(y_test, y_pred_1)\n",
    "print(rmse_final_model)"
   ]
  },
  {
   "cell_type": "markdown",
   "metadata": {
    "id": "vOAh3yw4J85W"
   },
   "source": [
    "### Task 4: Summarize the findings of the analysis and draw conclusions with PPT / PDF. (weightage - 5 marks) (ME)"
   ]
  },
  {
   "cell_type": "markdown",
   "metadata": {
    "id": "sIEMst9gJ85W"
   },
   "source": [
    "## Comparing linear regression with other models\n",
    "\n",
    "Advantages of linear regression:\n",
    "\n",
    "- Simple to explain\n",
    "- Highly interpretable\n",
    "- Model training and prediction are fast\n",
    "- Can perform well with a small number of observations\n",
    "- Well-understood\n",
    "\n",
    "Disadvantages of linear regression:\n",
    "\n",
    "- Presumes a linear relationship between the features and the response\n",
    "- Performance is (generally) not competitive with the best supervised learning methods due to high bias\n",
    "- Can't automatically learn feature interactions"
   ]
  },
  {
   "cell_type": "markdown",
   "metadata": {
    "id": "8R4U5B3bJ85W"
   },
   "source": [
    "-------------------------------------------------- **ASSESSMENT ENDS HERE** ---------------------------------------------------------"
   ]
  }
 ],
 "metadata": {
  "colab": {
   "provenance": []
  },
  "kernelspec": {
   "display_name": "Python 3 (ipykernel)",
   "language": "python",
   "name": "python3"
  },
  "language_info": {
   "codemirror_mode": {
    "name": "ipython",
    "version": 3
   },
   "file_extension": ".py",
   "mimetype": "text/x-python",
   "name": "python",
   "nbconvert_exporter": "python",
   "pygments_lexer": "ipython3",
   "version": "3.10.12"
  }
 },
 "nbformat": 4,
 "nbformat_minor": 4
}
